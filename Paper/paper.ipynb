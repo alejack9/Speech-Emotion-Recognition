{
  "cells": [
    {
      "cell_type": "markdown",
      "metadata": {},
      "source": [
        "# Colab setup"
      ]
    },
    {
      "cell_type": "code",
      "execution_count": null,
      "metadata": {
        "colab": {
          "base_uri": "https://localhost:8080/"
        },
        "id": "1CUETX0Z28rq",
        "outputId": "c57cb9fc-e366-453a-dfc0-6a428d238844"
      },
      "outputs": [],
      "source": [
        "from google.colab import drive\n",
        "drive.mount('/content/drive')"
      ]
    },
    {
      "cell_type": "code",
      "execution_count": null,
      "metadata": {
        "colab": {
          "base_uri": "https://localhost:8080/"
        },
        "id": "o2w4RpYA29gj",
        "outputId": "5b7999c9-69de-4191-d408-079f295289d5"
      },
      "outputs": [],
      "source": [
        "cd /content/drive/MyDrive/machine learning/Speech-Emotion-Recognition/Paper"
      ]
    },
    {
      "cell_type": "code",
      "execution_count": null,
      "metadata": {
        "colab": {
          "base_uri": "https://localhost:8080/"
        },
        "id": "hgWslqEimeyO",
        "outputId": "50bc165d-e110-4e88-cafb-1b19b8275775"
      },
      "outputs": [],
      "source": [
        "! pip install tensorflow-io==0.23.1"
      ]
    },
    {
      "cell_type": "markdown",
      "metadata": {
        "id": "Dp7kxMfyllr9"
      },
      "source": [
        "# Imports and Deterministic Behaviour"
      ]
    },
    {
      "cell_type": "code",
      "execution_count": 1,
      "metadata": {
        "id": "ASK4FSZYllsH"
      },
      "outputs": [],
      "source": [
        "import os\n",
        "os.environ['TF_CPP_MIN_LOG_LEVEL'] = '3'\n",
        "\n",
        "import re\n",
        "import numpy as np\n",
        "import matplotlib.pyplot as plt\n",
        "from sklearn.model_selection import StratifiedShuffleSplit\n",
        "import data_operations as data_ops\n",
        "\n",
        "import tensorflow as tf\n",
        "import tensorflow_io as tfio\n",
        "from tensorflow.keras.models import Sequential\n",
        "from tensorflow.keras.layers import Dense, Conv1D,  MaxPooling1D, BatchNormalization, GlobalMaxPooling1D\n",
        "\n",
        "import pandas as pd\n",
        "\n",
        "# Set the seed value for experiment reproducibility.\n",
        "seed = 42\n",
        "tf.random.set_seed(seed)\n",
        "np.random.seed(seed)"
      ]
    },
    {
      "cell_type": "code",
      "execution_count": 2,
      "metadata": {
        "id": "xEvGso3RllsL"
      },
      "outputs": [],
      "source": [
        "DATA_DIR = \"./data/SAVEE\"\n",
        "\n",
        "TRAIN_SIZE, VAL_SIZE, TEST_SIZE = (300, 100, 80)\n",
        "\n",
        "SAMPLE_RATE_HZ = 44100"
      ]
    },
    {
      "cell_type": "markdown",
      "metadata": {
        "id": "SXAiZU2VllsN"
      },
      "source": [
        "# Load audio and Get Label functions"
      ]
    },
    {
      "cell_type": "code",
      "execution_count": 3,
      "metadata": {
        "id": "D5t2PKZzllsO"
      },
      "outputs": [],
      "source": [
        "def get_label(file_path):\n",
        "  parts = re.sub('.+\\_|[0-9]+.wav', '', file_path)\n",
        "  return parts\n",
        "\n",
        "\n",
        "def get_speaker_name(file_path):\n",
        "  parts = re.sub('.*[/]+|\\_|[a-z]+[0-9]+.wav', '', file_path)\n",
        "  return parts"
      ]
    },
    {
      "cell_type": "code",
      "execution_count": 4,
      "metadata": {
        "id": "pqOiOttIllsP"
      },
      "outputs": [],
      "source": [
        "filenames = [f'{DATA_DIR}/{p}' for p in os.listdir(DATA_DIR)]"
      ]
    },
    {
      "cell_type": "code",
      "execution_count": 5,
      "metadata": {},
      "outputs": [
        {
          "data": {
            "image/png": "[encoded data removed]",
            "text/plain": [
              "<Figure size 720x720 with 4 Axes>"
            ]
          },
          "metadata": {},
          "output_type": "display_data"
        }
      ],
      "source": [
        "df = pd.DataFrame({'filenames': filenames, 'speaker': map(get_speaker_name, filenames), 'label': map(get_label, filenames)})\n",
        "\n",
        "rows = 2\n",
        "cols = 2\n",
        "n = rows * cols\n",
        "fig, axes = plt.subplots(rows, cols, figsize=(10, 10))\n",
        "\n",
        "for i, speaker in enumerate(df['speaker'].unique()):\n",
        "  values = df[df['speaker'] == speaker]['label'].value_counts()\n",
        "  \n",
        "  r = i // cols\n",
        "  c = i % cols\n",
        "  ax = axes[r][c]\n",
        "\n",
        "  ax.set_title(speaker)\n",
        "  ax.pie(values.values, labels= values.index, autopct=lambda p: '{:.0f}'.format(p * values.values.sum() / 100))\n",
        "\n",
        "plt.show()"
      ]
    },
    {
      "cell_type": "code",
      "execution_count": 9,
      "metadata": {},
      "outputs": [],
      "source": [
        "test_files, test_labels = np.array([]), np.array([])\n",
        "train_files, train_labels = np.array([]), np.array([])\n",
        "val_files, val_labels = np.array([]), np.array([])\n",
        "\n",
        "for speaker in df['speaker'].unique():\n",
        "    data = df[df['speaker'] == speaker]\n",
        "    \n",
        "    test_candidates_f, test_candidates_l = [], []\n",
        "    #  take 20 samples for speaker\n",
        "    for train_val_index, test_index in StratifiedShuffleSplit(n_splits=10, test_size=20, random_state=42).split(data['filenames'].to_numpy(), data['label'].to_numpy()):\n",
        "        train_val_candidate_f, test_candidate_f = data['filenames'].to_numpy()[train_val_index], data['filenames'].to_numpy()[test_index]\n",
        "        train_val_candidate_l, test_candidate_l = data['label'].to_numpy()[train_val_index], data['label'].to_numpy()[test_index]\n",
        "\n",
        "    for train_index, val_index in StratifiedShuffleSplit(n_splits=10, test_size=20, random_state=42).split(train_val_candidate_f, train_val_candidate_l):\n",
        "        train_candidate_f, val_candidate_f = train_val_candidate_f[train_index], train_val_candidate_f[val_index]\n",
        "        train_candidate_l, val_candidate_l = train_val_candidate_l[train_index], train_val_candidate_l[val_index]\n",
        "    \n",
        "    test_files = np.append(test_files, test_candidate_f)\n",
        "    test_labels = np.append(test_labels, test_candidate_l)\n",
        "\n",
        "    train_files = np.append(train_files, train_candidate_f)\n",
        "    train_labels = np.append(train_labels, train_candidate_l)\n",
        "\n",
        "    val_files = np.append(val_files, val_candidate_f)\n",
        "    val_labels = np.append(val_labels, val_candidate_l)"
      ]
    },
    {
      "cell_type": "code",
      "execution_count": 15,
      "metadata": {},
      "outputs": [
        {
          "data": {
            "text/plain": [
              "(array(['a', 'd', 'f', 'h', 'n', 'sa', 'su'], dtype=object),\n",
              " array([ 48,  52,  52,  48, 100,  52,  48], dtype=int64))"
            ]
          },
          "execution_count": 15,
          "metadata": {},
          "output_type": "execute_result"
        }
      ],
      "source": []
    },
    {
      "cell_type": "code",
      "execution_count": null,
      "metadata": {},
      "outputs": [],
      "source": [
        "# np.random.shuffle(filenames)\n",
        "labels_true = list(map(get_label, filenames))\n",
        "labels = pd.get_dummies(list(map(get_label, filenames))).to_numpy()"
      ]
    },
    {
      "cell_type": "code",
      "execution_count": 40,
      "metadata": {
        "colab": {
          "base_uri": "https://localhost:8080/"
        },
        "id": "EcUgbnPYllsR",
        "outputId": "dc3a603a-f4d3-4b7f-d197-22c0db21f4dc"
      },
      "outputs": [
        {
          "name": "stdout",
          "output_type": "stream",
          "text": [
            "Training set size 300\n",
            "Validation set size 100\n",
            "Test set size 80\n",
            "./data/SAVEE/KL_sa14.wav [0 0 0 0 0 1 0]\n",
            "./data/SAVEE/KL_n19.wav [0 0 0 0 1 0 0]\n",
            "./data/SAVEE/DC_h10.wav [0 0 0 1 0 0 0]\n"
          ]
        }
      ],
      "source": [
        "for train_index, val_test_index in StratifiedShuffleSplit(n_splits=10, train_size=TRAIN_SIZE, random_state=42).split(filenames, labels):\n",
        "  train_files, val_test_files = np.array(filenames)[train_index], np.array(filenames)[val_test_index]\n",
        "  train_labels, val_test_labels = np.array(labels)[train_index], np.array(labels)[val_test_index]\n",
        "\n",
        "for val_index, test_index in StratifiedShuffleSplit(n_splits=10, train_size=VAL_SIZE, random_state=42).split(val_test_files, val_test_labels):\n",
        "  val_files, test_files = np.array(val_test_files)[val_index], np.array(val_test_files)[test_index]\n",
        "  val_labels, test_labels = np.array(val_test_labels)[val_index], np.array(val_test_labels)[test_index]\n",
        "\n",
        "# train_files, train_labels = (filenames[:TRAIN_SIZE], labels[:TRAIN_SIZE])\n",
        "# val_files, val_labels = (filenames[TRAIN_SIZE: TRAIN_SIZE + VAL_SIZE], labels[TRAIN_SIZE: TRAIN_SIZE + VAL_SIZE])\n",
        "# test_files, test_labels = (filenames[-TEST_SIZE:], labels[-TEST_SIZE:])\n",
        "\n",
        "print('Training set size', len(train_files))\n",
        "print('Validation set size', len(val_files))\n",
        "print('Test set size', len(test_files))\n",
        "print(train_files[0], train_labels[0])\n",
        "print(val_files[0], val_labels[0])\n",
        "print(test_files[0], test_labels[0])"
      ]
    },
    {
      "cell_type": "code",
      "execution_count": 41,
      "metadata": {},
      "outputs": [
        {
          "data": {
            "image/png": "[encoded data removed]",
            "text/plain": [
              "<Figure size 2160x720 with 3 Axes>"
            ]
          },
          "metadata": {},
          "output_type": "display_data"
        }
      ],
      "source": [
        "fig, axes = plt.subplots(1, 3, figsize=(30, 10))\n",
        "axes[0].pie(np.unique(labels_true, return_counts=True)[1], labels=np.unique(labels_true), autopct='%1.1f%%')\n",
        "axes[1].pie(np.unique(list(map(str, train_labels)), return_counts=True)[1], labels=np.unique(list(map(str, train_labels))), autopct='%1.1f%%')\n",
        "axes[2].pie(np.unique(list(map(str, val_labels)), return_counts=True)[1], labels=np.unique(list(map(str, val_labels))), autopct='%1.1f%%')\n",
        "plt.show()"
      ]
    },
    {
      "cell_type": "code",
      "execution_count": null,
      "metadata": {
        "id": "kCXdAqDxllsV"
      },
      "outputs": [],
      "source": [
        "operations = [\n",
        "    data_ops.ReadFile(),\n",
        "    data_ops.DecodeWav(),\n",
        "    data_ops.Squeeze(),\n",
        "    data_ops.Crop(SAMPLE_RATE_HZ * 8),\n",
        "    data_ops.ZeroPad(SAMPLE_RATE_HZ * 8),\n",
        "    data_ops.CastToFloat(),\n",
        "    data_ops.Reshape((SAMPLE_RATE_HZ * 8, 1))\n",
        "]\n",
        "\n",
        "train_ds = tfio.audio.AudioIODataset.from_tensor_slices((train_files, train_labels))\n",
        "val_ds = tfio.audio.AudioIODataset.from_tensor_slices((val_files, val_labels))"
      ]
    },
    {
      "cell_type": "code",
      "execution_count": null,
      "metadata": {
        "id": "0gDjJyzzllsW"
      },
      "outputs": [],
      "source": [
        "for o in operations:\n",
        "    train_ds = train_ds.map(o, num_parallel_calls=tf.data.AUTOTUNE)"
      ]
    },
    {
      "cell_type": "code",
      "execution_count": null,
      "metadata": {
        "id": "-6voy_u3llsY"
      },
      "outputs": [],
      "source": [
        "for o in operations:\n",
        "    val_ds = val_ds.map(o, num_parallel_calls=tf.data.AUTOTUNE)"
      ]
    },
    {
      "cell_type": "code",
      "execution_count": null,
      "metadata": {
        "id": "fGNlL0eUllsa"
      },
      "outputs": [],
      "source": [
        "# rows = 3\n",
        "# cols = 3\n",
        "# n = rows * cols\n",
        "# fig, axes = plt.subplots(rows, cols, figsize=(12, 15))\n",
        "\n",
        "# for i, (audio, label) in enumerate(train_ds.take(n)):\n",
        "#   r = i // cols\n",
        "#   c = i % cols\n",
        "#   ax = axes[r][c]\n",
        "#   ax.plot(audio.numpy())\n",
        "#   print(audio.numpy().shape)\n",
        "#   label = label.numpy().decode('utf-8')\n",
        "#   ax.set_title(label)\n",
        "\n",
        "# plt.show()"
      ]
    },
    {
      "cell_type": "markdown",
      "metadata": {
        "id": "lbZUJpswllsb"
      },
      "source": [
        "## CNN Architecture\n",
        " * 6x 1D + Batch norm + max pooling\n",
        " * 1x 1D + Batch norm + global max pooling\n",
        " * 2x dense layer"
      ]
    },
    {
      "cell_type": "code",
      "execution_count": null,
      "metadata": {
        "id": "LAhh3pacllsc"
      },
      "outputs": [],
      "source": [
        "first_filter_size =  (32, 21)\n",
        "\n",
        "filters = [64, 128, 256, 512, 1024]\n",
        "sizes = [19, 17, 15, 13, 11]\n",
        "\n",
        "middle_filters_size = list(zip(filters, sizes))\n",
        "last_filter_size =  (1024, 9)\n",
        "\n",
        "activation= 'relu'\n",
        "pool_size = 2"
      ]
    },
    {
      "cell_type": "code",
      "execution_count": null,
      "metadata": {
        "colab": {
          "base_uri": "https://localhost:8080/"
        },
        "id": "mEimJVK1llse",
        "outputId": "c8258a8f-1e0f-4f1b-e74c-99d73891edd9"
      },
      "outputs": [
        {
          "name": "stdout",
          "output_type": "stream",
          "text": [
            "Model: \"sequential\"\n",
            "_________________________________________________________________\n",
            " Layer (type)                Output Shape              Param #   \n",
            "=================================================================\n",
            " conv1d (Conv1D)             (None, 352780, 32)        704       \n",
            "                                                                 \n",
            " batch_normalization (BatchN  (None, 352780, 32)       128       \n",
            " ormalization)                                                   \n",
            "                                                                 \n",
            " max_pooling1d (MaxPooling1D  (None, 176390, 32)       0         \n",
            " )                                                               \n",
            "                                                                 \n",
            " conv1d_1 (Conv1D)           (None, 176372, 64)        38976     \n",
            "                                                                 \n",
            " batch_normalization_1 (Batc  (None, 176372, 64)       256       \n",
            " hNormalization)                                                 \n",
            "                                                                 \n",
            " max_pooling1d_1 (MaxPooling  (None, 88186, 64)        0         \n",
            " 1D)                                                             \n",
            "                                                                 \n",
            " conv1d_2 (Conv1D)           (None, 88170, 128)        139392    \n",
            "                                                                 \n",
            " batch_normalization_2 (Batc  (None, 88170, 128)       512       \n",
            " hNormalization)                                                 \n",
            "                                                                 \n",
            " max_pooling1d_2 (MaxPooling  (None, 44085, 128)       0         \n",
            " 1D)                                                             \n",
            "                                                                 \n",
            " conv1d_3 (Conv1D)           (None, 44071, 256)        491776    \n",
            "                                                                 \n",
            " batch_normalization_3 (Batc  (None, 44071, 256)       1024      \n",
            " hNormalization)                                                 \n",
            "                                                                 \n",
            " max_pooling1d_3 (MaxPooling  (None, 22035, 256)       0         \n",
            " 1D)                                                             \n",
            "                                                                 \n",
            " conv1d_4 (Conv1D)           (None, 22023, 512)        1704448   \n",
            "                                                                 \n",
            " batch_normalization_4 (Batc  (None, 22023, 512)       2048      \n",
            " hNormalization)                                                 \n",
            "                                                                 \n",
            " max_pooling1d_4 (MaxPooling  (None, 11011, 512)       0         \n",
            " 1D)                                                             \n",
            "                                                                 \n",
            " conv1d_5 (Conv1D)           (None, 11001, 1024)       5768192   \n",
            "                                                                 \n",
            " batch_normalization_5 (Batc  (None, 11001, 1024)      4096      \n",
            " hNormalization)                                                 \n",
            "                                                                 \n",
            " max_pooling1d_5 (MaxPooling  (None, 5500, 1024)       0         \n",
            " 1D)                                                             \n",
            "                                                                 \n",
            " conv1d_6 (Conv1D)           (None, 5492, 1024)        9438208   \n",
            "                                                                 \n",
            " batch_normalization_6 (Batc  (None, 5492, 1024)       4096      \n",
            " hNormalization)                                                 \n",
            "                                                                 \n",
            " global_max_pooling1d (Globa  (None, 1024)             0         \n",
            " lMaxPooling1D)                                                  \n",
            "                                                                 \n",
            " dense (Dense)               (None, 128)               131200    \n",
            "                                                                 \n",
            " dense_1 (Dense)             (None, 7)                 903       \n",
            "                                                                 \n",
            "=================================================================\n",
            "Total params: 17,725,959\n",
            "Trainable params: 17,719,879\n",
            "Non-trainable params: 6,080\n",
            "_________________________________________________________________\n"
          ]
        }
      ],
      "source": [
        "model = Sequential()\n",
        "\n",
        "# first layer\n",
        "# input shape (None, n) = variable-length sequences of n-dimensional vectors\n",
        "model.add(Conv1D(first_filter_size[0], first_filter_size[1], activation = activation, input_shape=(SAMPLE_RATE_HZ * 8, 1)))\n",
        "model.add(BatchNormalization())\n",
        "model.add(MaxPooling1D(pool_size = pool_size))\n",
        "\n",
        "# middle layers\n",
        "for (filter_size, kernel_size) in middle_filters_size:\n",
        "    model.add(Conv1D(filter_size, kernel_size, activation = activation))\n",
        "    model.add(BatchNormalization())\n",
        "    model.add(MaxPooling1D(pool_size = pool_size))\n",
        "\n",
        "# last layer\n",
        "model.add(Conv1D(last_filter_size[0], last_filter_size[1], activation = activation))\n",
        "model.add(BatchNormalization())\n",
        "model.add(GlobalMaxPooling1D())\n",
        "\n",
        "# model.add(Flatten())\n",
        "model.add(Dense(128, activation=activation))\n",
        "model.add(Dense(7, activation='softmax'))\n",
        "\n",
        "model.summary()"
      ]
    },
    {
      "cell_type": "code",
      "execution_count": null,
      "metadata": {
        "id": "Gd0_nn78uotT"
      },
      "outputs": [],
      "source": [
        "opt = tf.keras.optimizers.Adam(learning_rate=0.001, beta_1=0.9, beta_2=0.999)\n",
        "model.compile(optimizer=opt, loss='categorical_crossentropy', metrics=['accuracy'])"
      ]
    },
    {
      "cell_type": "code",
      "execution_count": null,
      "metadata": {
        "id": "pX444jQjllsg"
      },
      "outputs": [],
      "source": [
        "train_ds = train_ds.batch(8)\n",
        "val_ds = val_ds.batch(8)\n",
        "\n",
        "EPOCHS = 400\n",
        "\n",
        "checkpoint_callback = tf.keras.callbacks.ModelCheckpoint(\n",
        "    filepath='./tmp/checkpoint')"
      ]
    },
    {
      "cell_type": "code",
      "execution_count": null,
      "metadata": {
        "colab": {
          "base_uri": "https://localhost:8080/"
        },
        "id": "3hfle9C4llsh",
        "outputId": "86ddf505-9d6a-4703-dce2-4d52462a5c69"
      },
      "outputs": [
        {
          "name": "stdout",
          "output_type": "stream",
          "text": [
            "Epoch 1/400\n",
            "38/38 [==============================] - ETA: 0s - loss: 6.1456 - accuracy: 0.2333INFO:tensorflow:Assets written to: ./tmp/checkpoint/assets\n",
            "38/38 [==============================] - 166s 4s/step - loss: 6.1456 - accuracy: 0.2333 - val_loss: 165.2055 - val_accuracy: 0.1400\n",
            "Epoch 2/400\n",
            "38/38 [==============================] - ETA: 0s - loss: 2.5658 - accuracy: 0.2833INFO:tensorflow:Assets written to: ./tmp/checkpoint/assets\n",
            "38/38 [==============================] - 131s 3s/step - loss: 2.5658 - accuracy: 0.2833 - val_loss: 11.6813 - val_accuracy: 0.1500\n",
            "Epoch 3/400\n",
            "38/38 [==============================] - ETA: 0s - loss: 2.0619 - accuracy: 0.3100INFO:tensorflow:Assets written to: ./tmp/checkpoint/assets\n",
            "38/38 [==============================] - 130s 3s/step - loss: 2.0619 - accuracy: 0.3100 - val_loss: 2.2331 - val_accuracy: 0.3200\n",
            "Epoch 4/400\n",
            "38/38 [==============================] - ETA: 0s - loss: 1.8620 - accuracy: 0.3367INFO:tensorflow:Assets written to: ./tmp/checkpoint/assets\n",
            "38/38 [==============================] - 130s 3s/step - loss: 1.8620 - accuracy: 0.3367 - val_loss: 1.9033 - val_accuracy: 0.2600\n",
            "Epoch 5/400\n",
            "38/38 [==============================] - ETA: 0s - loss: 1.8205 - accuracy: 0.3300INFO:tensorflow:Assets written to: ./tmp/checkpoint/assets\n",
            "38/38 [==============================] - 130s 3s/step - loss: 1.8205 - accuracy: 0.3300 - val_loss: 1.8211 - val_accuracy: 0.2300\n",
            "Epoch 6/400\n",
            "38/38 [==============================] - ETA: 0s - loss: 1.7034 - accuracy: 0.3367INFO:tensorflow:Assets written to: ./tmp/checkpoint/assets\n",
            "38/38 [==============================] - 130s 3s/step - loss: 1.7034 - accuracy: 0.3367 - val_loss: 1.7868 - val_accuracy: 0.2600\n",
            "Epoch 7/400\n",
            "38/38 [==============================] - ETA: 0s - loss: 1.6415 - accuracy: 0.3567INFO:tensorflow:Assets written to: ./tmp/checkpoint/assets\n",
            "38/38 [==============================] - 129s 3s/step - loss: 1.6415 - accuracy: 0.3567 - val_loss: 1.6969 - val_accuracy: 0.2600\n",
            "Epoch 8/400\n",
            "38/38 [==============================] - ETA: 0s - loss: 1.5967 - accuracy: 0.4100INFO:tensorflow:Assets written to: ./tmp/checkpoint/assets\n",
            "38/38 [==============================] - 130s 3s/step - loss: 1.5967 - accuracy: 0.4100 - val_loss: 1.7739 - val_accuracy: 0.2700\n",
            "Epoch 9/400\n",
            "38/38 [==============================] - ETA: 0s - loss: 1.5443 - accuracy: 0.3833INFO:tensorflow:Assets written to: ./tmp/checkpoint/assets\n",
            "38/38 [==============================] - 130s 3s/step - loss: 1.5443 - accuracy: 0.3833 - val_loss: 1.5653 - val_accuracy: 0.3700\n",
            "Epoch 10/400\n",
            "38/38 [==============================] - ETA: 0s - loss: 1.5389 - accuracy: 0.3867INFO:tensorflow:Assets written to: ./tmp/checkpoint/assets\n",
            "38/38 [==============================] - 130s 3s/step - loss: 1.5389 - accuracy: 0.3867 - val_loss: 1.6685 - val_accuracy: 0.3200\n",
            "Epoch 11/400\n",
            "38/38 [==============================] - ETA: 0s - loss: 1.5502 - accuracy: 0.3867INFO:tensorflow:Assets written to: ./tmp/checkpoint/assets\n",
            "38/38 [==============================] - 129s 3s/step - loss: 1.5502 - accuracy: 0.3867 - val_loss: 1.6661 - val_accuracy: 0.2500\n",
            "Epoch 12/400\n",
            "38/38 [==============================] - ETA: 0s - loss: 1.5210 - accuracy: 0.3900INFO:tensorflow:Assets written to: ./tmp/checkpoint/assets\n",
            "38/38 [==============================] - 130s 3s/step - loss: 1.5210 - accuracy: 0.3900 - val_loss: 1.6344 - val_accuracy: 0.3100\n",
            "Epoch 13/400\n",
            "38/38 [==============================] - ETA: 0s - loss: 1.4412 - accuracy: 0.4033INFO:tensorflow:Assets written to: ./tmp/checkpoint/assets\n",
            "38/38 [==============================] - 130s 3s/step - loss: 1.4412 - accuracy: 0.4033 - val_loss: 1.6881 - val_accuracy: 0.2800\n",
            "Epoch 14/400\n",
            "38/38 [==============================] - ETA: 0s - loss: 1.5531 - accuracy: 0.3833INFO:tensorflow:Assets written to: ./tmp/checkpoint/assets\n",
            "38/38 [==============================] - 130s 3s/step - loss: 1.5531 - accuracy: 0.3833 - val_loss: 1.5239 - val_accuracy: 0.3000\n",
            "Epoch 15/400\n",
            "38/38 [==============================] - ETA: 0s - loss: 1.4162 - accuracy: 0.4233INFO:tensorflow:Assets written to: ./tmp/checkpoint/assets\n",
            "38/38 [==============================] - 130s 3s/step - loss: 1.4162 - accuracy: 0.4233 - val_loss: 1.6448 - val_accuracy: 0.2600\n",
            "Epoch 16/400\n",
            "38/38 [==============================] - ETA: 0s - loss: 1.3368 - accuracy: 0.5000INFO:tensorflow:Assets written to: ./tmp/checkpoint/assets\n",
            "38/38 [==============================] - 131s 3s/step - loss: 1.3368 - accuracy: 0.5000 - val_loss: 1.8287 - val_accuracy: 0.2900\n",
            "Epoch 17/400\n",
            "38/38 [==============================] - ETA: 0s - loss: 1.4379 - accuracy: 0.4267INFO:tensorflow:Assets written to: ./tmp/checkpoint/assets\n",
            "38/38 [==============================] - 130s 3s/step - loss: 1.4379 - accuracy: 0.4267 - val_loss: 1.7413 - val_accuracy: 0.2800\n",
            "Epoch 18/400\n",
            "38/38 [==============================] - ETA: 0s - loss: 1.3799 - accuracy: 0.4633INFO:tensorflow:Assets written to: ./tmp/checkpoint/assets\n",
            "38/38 [==============================] - 130s 3s/step - loss: 1.3799 - accuracy: 0.4633 - val_loss: 1.5853 - val_accuracy: 0.2600\n",
            "Epoch 19/400\n",
            "38/38 [==============================] - ETA: 0s - loss: 1.2391 - accuracy: 0.4767INFO:tensorflow:Assets written to: ./tmp/checkpoint/assets\n",
            "38/38 [==============================] - 130s 3s/step - loss: 1.2391 - accuracy: 0.4767 - val_loss: 1.5877 - val_accuracy: 0.2600\n",
            "Epoch 20/400\n",
            "38/38 [==============================] - ETA: 0s - loss: 1.2157 - accuracy: 0.5167INFO:tensorflow:Assets written to: ./tmp/checkpoint/assets\n",
            "38/38 [==============================] - 131s 3s/step - loss: 1.2157 - accuracy: 0.5167 - val_loss: 1.6138 - val_accuracy: 0.3400\n",
            "Epoch 21/400\n",
            "38/38 [==============================] - ETA: 0s - loss: 1.1658 - accuracy: 0.5467INFO:tensorflow:Assets written to: ./tmp/checkpoint/assets\n",
            "38/38 [==============================] - 130s 3s/step - loss: 1.1658 - accuracy: 0.5467 - val_loss: 1.4060 - val_accuracy: 0.3900\n",
            "Epoch 22/400\n",
            "38/38 [==============================] - ETA: 0s - loss: 1.0836 - accuracy: 0.5933INFO:tensorflow:Assets written to: ./tmp/checkpoint/assets\n",
            "38/38 [==============================] - 131s 3s/step - loss: 1.0836 - accuracy: 0.5933 - val_loss: 1.5031 - val_accuracy: 0.4000\n",
            "Epoch 23/400\n",
            "38/38 [==============================] - ETA: 0s - loss: 1.1066 - accuracy: 0.5267INFO:tensorflow:Assets written to: ./tmp/checkpoint/assets\n",
            "38/38 [==============================] - 130s 3s/step - loss: 1.1066 - accuracy: 0.5267 - val_loss: 1.3970 - val_accuracy: 0.3900\n",
            "Epoch 24/400\n",
            "38/38 [==============================] - ETA: 0s - loss: 1.0912 - accuracy: 0.5600INFO:tensorflow:Assets written to: ./tmp/checkpoint/assets\n",
            "38/38 [==============================] - 131s 3s/step - loss: 1.0912 - accuracy: 0.5600 - val_loss: 1.4912 - val_accuracy: 0.4400\n",
            "Epoch 25/400\n",
            "38/38 [==============================] - ETA: 0s - loss: 1.0317 - accuracy: 0.5767INFO:tensorflow:Assets written to: ./tmp/checkpoint/assets\n",
            "38/38 [==============================] - 130s 3s/step - loss: 1.0317 - accuracy: 0.5767 - val_loss: 1.6972 - val_accuracy: 0.3400\n",
            "Epoch 26/400\n",
            "38/38 [==============================] - ETA: 0s - loss: 0.9453 - accuracy: 0.6133INFO:tensorflow:Assets written to: ./tmp/checkpoint/assets\n",
            "38/38 [==============================] - 131s 3s/step - loss: 0.9453 - accuracy: 0.6133 - val_loss: 1.3280 - val_accuracy: 0.4600\n",
            "Epoch 27/400\n",
            "38/38 [==============================] - ETA: 0s - loss: 0.9397 - accuracy: 0.6267INFO:tensorflow:Assets written to: ./tmp/checkpoint/assets\n",
            "38/38 [==============================] - 130s 3s/step - loss: 0.9397 - accuracy: 0.6267 - val_loss: 1.6139 - val_accuracy: 0.3900\n",
            "Epoch 28/400\n",
            "38/38 [==============================] - ETA: 0s - loss: 1.0017 - accuracy: 0.6233INFO:tensorflow:Assets written to: ./tmp/checkpoint/assets\n",
            "38/38 [==============================] - 131s 3s/step - loss: 1.0017 - accuracy: 0.6233 - val_loss: 1.7149 - val_accuracy: 0.3800\n",
            "Epoch 29/400\n",
            "38/38 [==============================] - ETA: 0s - loss: 1.0246 - accuracy: 0.5600INFO:tensorflow:Assets written to: ./tmp/checkpoint/assets\n",
            "38/38 [==============================] - 131s 3s/step - loss: 1.0246 - accuracy: 0.5600 - val_loss: 1.6209 - val_accuracy: 0.3900\n",
            "Epoch 30/400\n",
            "38/38 [==============================] - ETA: 0s - loss: 0.8532 - accuracy: 0.6667INFO:tensorflow:Assets written to: ./tmp/checkpoint/assets\n",
            "38/38 [==============================] - 131s 3s/step - loss: 0.8532 - accuracy: 0.6667 - val_loss: 1.7095 - val_accuracy: 0.3200\n",
            "Epoch 31/400\n",
            "38/38 [==============================] - ETA: 0s - loss: 0.8199 - accuracy: 0.6733INFO:tensorflow:Assets written to: ./tmp/checkpoint/assets\n",
            "38/38 [==============================] - 131s 3s/step - loss: 0.8199 - accuracy: 0.6733 - val_loss: 1.6354 - val_accuracy: 0.4300\n",
            "Epoch 32/400\n",
            "38/38 [==============================] - ETA: 0s - loss: 0.8500 - accuracy: 0.6800INFO:tensorflow:Assets written to: ./tmp/checkpoint/assets\n",
            "38/38 [==============================] - 131s 3s/step - loss: 0.8500 - accuracy: 0.6800 - val_loss: 1.4980 - val_accuracy: 0.4500\n",
            "Epoch 33/400\n",
            "38/38 [==============================] - ETA: 0s - loss: 0.6952 - accuracy: 0.7033INFO:tensorflow:Assets written to: ./tmp/checkpoint/assets\n",
            "38/38 [==============================] - 131s 3s/step - loss: 0.6952 - accuracy: 0.7033 - val_loss: 1.5724 - val_accuracy: 0.4000\n",
            "Epoch 34/400\n",
            "38/38 [==============================] - ETA: 0s - loss: 0.7355 - accuracy: 0.6900INFO:tensorflow:Assets written to: ./tmp/checkpoint/assets\n",
            "38/38 [==============================] - 131s 3s/step - loss: 0.7355 - accuracy: 0.6900 - val_loss: 1.3481 - val_accuracy: 0.5000\n",
            "Epoch 35/400\n",
            "38/38 [==============================] - ETA: 0s - loss: 0.9045 - accuracy: 0.6567INFO:tensorflow:Assets written to: ./tmp/checkpoint/assets\n",
            "38/38 [==============================] - 131s 3s/step - loss: 0.9045 - accuracy: 0.6567 - val_loss: 2.9286 - val_accuracy: 0.2000\n",
            "Epoch 36/400\n",
            "38/38 [==============================] - ETA: 0s - loss: 0.7764 - accuracy: 0.6867INFO:tensorflow:Assets written to: ./tmp/checkpoint/assets\n",
            "38/38 [==============================] - 131s 3s/step - loss: 0.7764 - accuracy: 0.6867 - val_loss: 1.5382 - val_accuracy: 0.4200\n",
            "Epoch 37/400\n",
            "38/38 [==============================] - ETA: 0s - loss: 0.5535 - accuracy: 0.7967INFO:tensorflow:Assets written to: ./tmp/checkpoint/assets\n",
            "38/38 [==============================] - 130s 3s/step - loss: 0.5535 - accuracy: 0.7967 - val_loss: 1.3809 - val_accuracy: 0.5300\n",
            "Epoch 38/400\n",
            "38/38 [==============================] - ETA: 0s - loss: 0.5011 - accuracy: 0.8000INFO:tensorflow:Assets written to: ./tmp/checkpoint/assets\n",
            "38/38 [==============================] - 131s 3s/step - loss: 0.5011 - accuracy: 0.8000 - val_loss: 1.5864 - val_accuracy: 0.4600\n",
            "Epoch 39/400\n",
            "38/38 [==============================] - ETA: 0s - loss: 0.5983 - accuracy: 0.7400INFO:tensorflow:Assets written to: ./tmp/checkpoint/assets\n",
            "38/38 [==============================] - 131s 3s/step - loss: 0.5983 - accuracy: 0.7400 - val_loss: 1.5658 - val_accuracy: 0.4200\n",
            "Epoch 40/400\n",
            "38/38 [==============================] - ETA: 0s - loss: 0.6773 - accuracy: 0.7133INFO:tensorflow:Assets written to: ./tmp/checkpoint/assets\n",
            "38/38 [==============================] - 131s 3s/step - loss: 0.6773 - accuracy: 0.7133 - val_loss: 1.9063 - val_accuracy: 0.4000\n",
            "Epoch 41/400\n",
            "38/38 [==============================] - ETA: 0s - loss: 0.6944 - accuracy: 0.7367INFO:tensorflow:Assets written to: ./tmp/checkpoint/assets\n",
            "38/38 [==============================] - 130s 3s/step - loss: 0.6944 - accuracy: 0.7367 - val_loss: 1.7960 - val_accuracy: 0.4100\n",
            "Epoch 42/400\n",
            "38/38 [==============================] - ETA: 0s - loss: 0.8051 - accuracy: 0.7167INFO:tensorflow:Assets written to: ./tmp/checkpoint/assets\n",
            "38/38 [==============================] - 131s 3s/step - loss: 0.8051 - accuracy: 0.7167 - val_loss: 2.5676 - val_accuracy: 0.3100\n",
            "Epoch 43/400\n",
            "38/38 [==============================] - ETA: 0s - loss: 0.6136 - accuracy: 0.7333INFO:tensorflow:Assets written to: ./tmp/checkpoint/assets\n",
            "38/38 [==============================] - 131s 3s/step - loss: 0.6136 - accuracy: 0.7333 - val_loss: 1.8427 - val_accuracy: 0.3900\n",
            "Epoch 44/400\n",
            "38/38 [==============================] - ETA: 0s - loss: 0.5335 - accuracy: 0.7833INFO:tensorflow:Assets written to: ./tmp/checkpoint/assets\n",
            "38/38 [==============================] - 131s 3s/step - loss: 0.5335 - accuracy: 0.7833 - val_loss: 1.9611 - val_accuracy: 0.4400\n",
            "Epoch 45/400\n",
            "38/38 [==============================] - ETA: 0s - loss: 0.5614 - accuracy: 0.7667INFO:tensorflow:Assets written to: ./tmp/checkpoint/assets\n",
            "38/38 [==============================] - 130s 3s/step - loss: 0.5614 - accuracy: 0.7667 - val_loss: 1.8323 - val_accuracy: 0.4000\n",
            "Epoch 46/400\n",
            "38/38 [==============================] - ETA: 0s - loss: 0.5809 - accuracy: 0.7800INFO:tensorflow:Assets written to: ./tmp/checkpoint/assets\n",
            "38/38 [==============================] - 131s 3s/step - loss: 0.5809 - accuracy: 0.7800 - val_loss: 1.9866 - val_accuracy: 0.4300\n",
            "Epoch 47/400\n",
            "38/38 [==============================] - ETA: 0s - loss: 0.6370 - accuracy: 0.7400INFO:tensorflow:Assets written to: ./tmp/checkpoint/assets\n",
            "38/38 [==============================] - 130s 3s/step - loss: 0.6370 - accuracy: 0.7400 - val_loss: 1.9041 - val_accuracy: 0.4100\n",
            "Epoch 48/400\n",
            "38/38 [==============================] - ETA: 0s - loss: 0.6163 - accuracy: 0.7433INFO:tensorflow:Assets written to: ./tmp/checkpoint/assets\n",
            "38/38 [==============================] - 131s 3s/step - loss: 0.6163 - accuracy: 0.7433 - val_loss: 1.5825 - val_accuracy: 0.4900\n",
            "Epoch 49/400\n",
            "38/38 [==============================] - ETA: 0s - loss: 0.5752 - accuracy: 0.7933INFO:tensorflow:Assets written to: ./tmp/checkpoint/assets\n",
            "38/38 [==============================] - 131s 3s/step - loss: 0.5752 - accuracy: 0.7933 - val_loss: 1.4769 - val_accuracy: 0.4800\n",
            "Epoch 50/400\n",
            "38/38 [==============================] - ETA: 0s - loss: 0.5780 - accuracy: 0.7700INFO:tensorflow:Assets written to: ./tmp/checkpoint/assets\n",
            "38/38 [==============================] - 131s 3s/step - loss: 0.5780 - accuracy: 0.7700 - val_loss: 1.6955 - val_accuracy: 0.4100\n",
            "Epoch 51/400\n",
            "38/38 [==============================] - ETA: 0s - loss: 0.6379 - accuracy: 0.7600INFO:tensorflow:Assets written to: ./tmp/checkpoint/assets\n",
            "38/38 [==============================] - 131s 3s/step - loss: 0.6379 - accuracy: 0.7600 - val_loss: 2.1643 - val_accuracy: 0.4000\n",
            "Epoch 52/400\n",
            "38/38 [==============================] - ETA: 0s - loss: 0.5693 - accuracy: 0.7567INFO:tensorflow:Assets written to: ./tmp/checkpoint/assets\n",
            "38/38 [==============================] - 131s 3s/step - loss: 0.5693 - accuracy: 0.7567 - val_loss: 2.2784 - val_accuracy: 0.4200\n",
            "Epoch 53/400\n",
            "38/38 [==============================] - ETA: 0s - loss: 0.5852 - accuracy: 0.7767INFO:tensorflow:Assets written to: ./tmp/checkpoint/assets\n",
            "38/38 [==============================] - 131s 3s/step - loss: 0.5852 - accuracy: 0.7767 - val_loss: 2.1845 - val_accuracy: 0.4000\n",
            "Epoch 54/400\n",
            "38/38 [==============================] - ETA: 0s - loss: 0.4028 - accuracy: 0.8433INFO:tensorflow:Assets written to: ./tmp/checkpoint/assets\n",
            "38/38 [==============================] - 131s 3s/step - loss: 0.4028 - accuracy: 0.8433 - val_loss: 2.1625 - val_accuracy: 0.3900\n",
            "Epoch 55/400\n",
            "38/38 [==============================] - ETA: 0s - loss: 0.3871 - accuracy: 0.8267INFO:tensorflow:Assets written to: ./tmp/checkpoint/assets\n",
            "38/38 [==============================] - 130s 3s/step - loss: 0.3871 - accuracy: 0.8267 - val_loss: 1.9068 - val_accuracy: 0.4500\n",
            "Epoch 56/400\n",
            "38/38 [==============================] - ETA: 0s - loss: 0.4144 - accuracy: 0.8400INFO:tensorflow:Assets written to: ./tmp/checkpoint/assets\n",
            "38/38 [==============================] - 131s 3s/step - loss: 0.4144 - accuracy: 0.8400 - val_loss: 1.9111 - val_accuracy: 0.4300\n",
            "Epoch 57/400\n",
            "38/38 [==============================] - ETA: 0s - loss: 0.3622 - accuracy: 0.8567INFO:tensorflow:Assets written to: ./tmp/checkpoint/assets\n",
            "38/38 [==============================] - 130s 3s/step - loss: 0.3622 - accuracy: 0.8567 - val_loss: 1.7362 - val_accuracy: 0.4600\n",
            "Epoch 58/400\n",
            "38/38 [==============================] - ETA: 0s - loss: 0.5170 - accuracy: 0.8133INFO:tensorflow:Assets written to: ./tmp/checkpoint/assets\n",
            "38/38 [==============================] - 131s 3s/step - loss: 0.5170 - accuracy: 0.8133 - val_loss: 1.9720 - val_accuracy: 0.4100\n",
            "Epoch 59/400\n",
            "38/38 [==============================] - ETA: 0s - loss: 0.3415 - accuracy: 0.8867INFO:tensorflow:Assets written to: ./tmp/checkpoint/assets\n",
            "38/38 [==============================] - 130s 3s/step - loss: 0.3415 - accuracy: 0.8867 - val_loss: 1.7560 - val_accuracy: 0.4500\n",
            "Epoch 60/400\n",
            "38/38 [==============================] - ETA: 0s - loss: 0.3566 - accuracy: 0.8600INFO:tensorflow:Assets written to: ./tmp/checkpoint/assets\n",
            "38/38 [==============================] - 130s 3s/step - loss: 0.3566 - accuracy: 0.8600 - val_loss: 2.3920 - val_accuracy: 0.3700\n",
            "Epoch 61/400\n",
            "38/38 [==============================] - ETA: 0s - loss: 0.3685 - accuracy: 0.8400INFO:tensorflow:Assets written to: ./tmp/checkpoint/assets\n",
            "38/38 [==============================] - 130s 3s/step - loss: 0.3685 - accuracy: 0.8400 - val_loss: 1.8187 - val_accuracy: 0.5100\n",
            "Epoch 62/400\n",
            "38/38 [==============================] - ETA: 0s - loss: 0.3123 - accuracy: 0.9000INFO:tensorflow:Assets written to: ./tmp/checkpoint/assets\n",
            "38/38 [==============================] - 130s 3s/step - loss: 0.3123 - accuracy: 0.9000 - val_loss: 1.8230 - val_accuracy: 0.4700\n",
            "Epoch 63/400\n",
            "38/38 [==============================] - ETA: 0s - loss: 0.3426 - accuracy: 0.8767INFO:tensorflow:Assets written to: ./tmp/checkpoint/assets\n",
            "38/38 [==============================] - 131s 3s/step - loss: 0.3426 - accuracy: 0.8767 - val_loss: 3.1470 - val_accuracy: 0.3600\n",
            "Epoch 64/400\n",
            "38/38 [==============================] - ETA: 0s - loss: 0.3092 - accuracy: 0.8733INFO:tensorflow:Assets written to: ./tmp/checkpoint/assets\n",
            "38/38 [==============================] - 130s 3s/step - loss: 0.3092 - accuracy: 0.8733 - val_loss: 2.7129 - val_accuracy: 0.3600\n",
            "Epoch 65/400\n",
            "38/38 [==============================] - ETA: 0s - loss: 0.3008 - accuracy: 0.8733INFO:tensorflow:Assets written to: ./tmp/checkpoint/assets\n",
            "38/38 [==============================] - 130s 3s/step - loss: 0.3008 - accuracy: 0.8733 - val_loss: 2.0915 - val_accuracy: 0.4300\n",
            "Epoch 66/400\n",
            "38/38 [==============================] - ETA: 0s - loss: 0.2122 - accuracy: 0.9100INFO:tensorflow:Assets written to: ./tmp/checkpoint/assets\n",
            "38/38 [==============================] - 130s 3s/step - loss: 0.2122 - accuracy: 0.9100 - val_loss: 2.5950 - val_accuracy: 0.4100\n",
            "Epoch 67/400\n",
            "38/38 [==============================] - ETA: 0s - loss: 0.3165 - accuracy: 0.8900INFO:tensorflow:Assets written to: ./tmp/checkpoint/assets\n",
            "38/38 [==============================] - 130s 3s/step - loss: 0.3165 - accuracy: 0.8900 - val_loss: 1.9863 - val_accuracy: 0.4500\n",
            "Epoch 68/400\n",
            "38/38 [==============================] - ETA: 0s - loss: 0.2064 - accuracy: 0.9000INFO:tensorflow:Assets written to: ./tmp/checkpoint/assets\n",
            "38/38 [==============================] - 130s 3s/step - loss: 0.2064 - accuracy: 0.9000 - val_loss: 2.6764 - val_accuracy: 0.4100\n",
            "Epoch 69/400\n",
            "38/38 [==============================] - ETA: 0s - loss: 0.2740 - accuracy: 0.8933INFO:tensorflow:Assets written to: ./tmp/checkpoint/assets\n",
            "38/38 [==============================] - 130s 3s/step - loss: 0.2740 - accuracy: 0.8933 - val_loss: 2.0795 - val_accuracy: 0.4400\n",
            "Epoch 70/400\n",
            "38/38 [==============================] - ETA: 0s - loss: 0.3236 - accuracy: 0.8667INFO:tensorflow:Assets written to: ./tmp/checkpoint/assets\n",
            "38/38 [==============================] - 130s 3s/step - loss: 0.3236 - accuracy: 0.8667 - val_loss: 1.9249 - val_accuracy: 0.5100\n",
            "Epoch 71/400\n",
            "38/38 [==============================] - ETA: 0s - loss: 0.5196 - accuracy: 0.8400INFO:tensorflow:Assets written to: ./tmp/checkpoint/assets\n",
            "38/38 [==============================] - 130s 3s/step - loss: 0.5196 - accuracy: 0.8400 - val_loss: 3.0705 - val_accuracy: 0.3900\n",
            "Epoch 72/400\n",
            "38/38 [==============================] - ETA: 0s - loss: 0.4732 - accuracy: 0.8067INFO:tensorflow:Assets written to: ./tmp/checkpoint/assets\n",
            "38/38 [==============================] - 130s 3s/step - loss: 0.4732 - accuracy: 0.8067 - val_loss: 2.3078 - val_accuracy: 0.4400\n",
            "Epoch 73/400\n",
            "38/38 [==============================] - ETA: 0s - loss: 0.2941 - accuracy: 0.8933INFO:tensorflow:Assets written to: ./tmp/checkpoint/assets\n",
            "38/38 [==============================] - 130s 3s/step - loss: 0.2941 - accuracy: 0.8933 - val_loss: 2.1735 - val_accuracy: 0.4100\n",
            "Epoch 74/400\n",
            "38/38 [==============================] - ETA: 0s - loss: 0.1581 - accuracy: 0.9467INFO:tensorflow:Assets written to: ./tmp/checkpoint/assets\n",
            "38/38 [==============================] - 130s 3s/step - loss: 0.1581 - accuracy: 0.9467 - val_loss: 2.4344 - val_accuracy: 0.4600\n",
            "Epoch 75/400\n",
            "38/38 [==============================] - ETA: 0s - loss: 0.1676 - accuracy: 0.9433INFO:tensorflow:Assets written to: ./tmp/checkpoint/assets\n",
            "38/38 [==============================] - 131s 3s/step - loss: 0.1676 - accuracy: 0.9433 - val_loss: 2.1184 - val_accuracy: 0.4700\n",
            "Epoch 76/400\n",
            "38/38 [==============================] - ETA: 0s - loss: 0.1382 - accuracy: 0.9467INFO:tensorflow:Assets written to: ./tmp/checkpoint/assets\n",
            "38/38 [==============================] - 130s 3s/step - loss: 0.1382 - accuracy: 0.9467 - val_loss: 2.2211 - val_accuracy: 0.4600\n",
            "Epoch 77/400\n",
            "38/38 [==============================] - ETA: 0s - loss: 0.0804 - accuracy: 0.9733INFO:tensorflow:Assets written to: ./tmp/checkpoint/assets\n",
            "38/38 [==============================] - 130s 3s/step - loss: 0.0804 - accuracy: 0.9733 - val_loss: 2.2721 - val_accuracy: 0.4800\n",
            "Epoch 78/400\n",
            "38/38 [==============================] - ETA: 0s - loss: 0.0742 - accuracy: 0.9733INFO:tensorflow:Assets written to: ./tmp/checkpoint/assets\n",
            "38/38 [==============================] - 131s 3s/step - loss: 0.0742 - accuracy: 0.9733 - val_loss: 2.3058 - val_accuracy: 0.4500\n",
            "Epoch 79/400\n",
            "38/38 [==============================] - ETA: 0s - loss: 0.0289 - accuracy: 1.0000INFO:tensorflow:Assets written to: ./tmp/checkpoint/assets\n",
            "38/38 [==============================] - 131s 3s/step - loss: 0.0289 - accuracy: 1.0000 - val_loss: 2.3022 - val_accuracy: 0.4800\n",
            "Epoch 80/400\n",
            "38/38 [==============================] - ETA: 0s - loss: 0.0250 - accuracy: 0.9867INFO:tensorflow:Assets written to: ./tmp/checkpoint/assets\n",
            "38/38 [==============================] - 130s 3s/step - loss: 0.0250 - accuracy: 0.9867 - val_loss: 2.1973 - val_accuracy: 0.4800\n",
            "Epoch 81/400\n",
            "38/38 [==============================] - ETA: 0s - loss: 0.0105 - accuracy: 0.9967INFO:tensorflow:Assets written to: ./tmp/checkpoint/assets\n",
            "38/38 [==============================] - 131s 3s/step - loss: 0.0105 - accuracy: 0.9967 - val_loss: 2.2039 - val_accuracy: 0.4800\n",
            "Epoch 82/400\n",
            "38/38 [==============================] - ETA: 0s - loss: 0.0044 - accuracy: 1.0000INFO:tensorflow:Assets written to: ./tmp/checkpoint/assets\n",
            "38/38 [==============================] - 130s 3s/step - loss: 0.0044 - accuracy: 1.0000 - val_loss: 2.2416 - val_accuracy: 0.4700\n",
            "Epoch 83/400\n",
            "38/38 [==============================] - ETA: 0s - loss: 0.0029 - accuracy: 1.0000INFO:tensorflow:Assets written to: ./tmp/checkpoint/assets\n",
            "38/38 [==============================] - 131s 3s/step - loss: 0.0029 - accuracy: 1.0000 - val_loss: 2.2517 - val_accuracy: 0.4700\n",
            "Epoch 84/400\n",
            "38/38 [==============================] - ETA: 0s - loss: 0.0023 - accuracy: 1.0000INFO:tensorflow:Assets written to: ./tmp/checkpoint/assets\n",
            "38/38 [==============================] - 130s 3s/step - loss: 0.0023 - accuracy: 1.0000 - val_loss: 2.2841 - val_accuracy: 0.4700\n",
            "Epoch 85/400\n",
            "38/38 [==============================] - ETA: 0s - loss: 0.0019 - accuracy: 1.0000INFO:tensorflow:Assets written to: ./tmp/checkpoint/assets\n",
            "38/38 [==============================] - 131s 3s/step - loss: 0.0019 - accuracy: 1.0000 - val_loss: 2.3216 - val_accuracy: 0.4800\n",
            "Epoch 86/400\n",
            "38/38 [==============================] - ETA: 0s - loss: 0.0017 - accuracy: 1.0000INFO:tensorflow:Assets written to: ./tmp/checkpoint/assets\n",
            "38/38 [==============================] - 130s 3s/step - loss: 0.0017 - accuracy: 1.0000 - val_loss: 2.3593 - val_accuracy: 0.4700\n",
            "Epoch 87/400\n",
            "38/38 [==============================] - ETA: 0s - loss: 0.0015 - accuracy: 1.0000INFO:tensorflow:Assets written to: ./tmp/checkpoint/assets\n",
            "38/38 [==============================] - 131s 3s/step - loss: 0.0015 - accuracy: 1.0000 - val_loss: 2.4006 - val_accuracy: 0.4700\n",
            "Epoch 88/400\n",
            "38/38 [==============================] - ETA: 0s - loss: 0.0013 - accuracy: 1.0000INFO:tensorflow:Assets written to: ./tmp/checkpoint/assets\n",
            "38/38 [==============================] - 130s 3s/step - loss: 0.0013 - accuracy: 1.0000 - val_loss: 2.4370 - val_accuracy: 0.4700\n",
            "Epoch 89/400\n",
            "38/38 [==============================] - ETA: 0s - loss: 0.0012 - accuracy: 1.0000INFO:tensorflow:Assets written to: ./tmp/checkpoint/assets\n",
            "38/38 [==============================] - 131s 3s/step - loss: 0.0012 - accuracy: 1.0000 - val_loss: 2.4705 - val_accuracy: 0.4700\n",
            "Epoch 90/400\n",
            "38/38 [==============================] - ETA: 0s - loss: 0.0010 - accuracy: 1.0000INFO:tensorflow:Assets written to: ./tmp/checkpoint/assets\n",
            "38/38 [==============================] - 130s 3s/step - loss: 0.0010 - accuracy: 1.0000 - val_loss: 2.5011 - val_accuracy: 0.4700\n",
            "Epoch 91/400\n",
            "38/38 [==============================] - ETA: 0s - loss: 9.5018e-04 - accuracy: 1.0000INFO:tensorflow:Assets written to: ./tmp/checkpoint/assets\n",
            "38/38 [==============================] - 131s 3s/step - loss: 9.5018e-04 - accuracy: 1.0000 - val_loss: 2.5303 - val_accuracy: 0.4700\n",
            "Epoch 92/400\n",
            "38/38 [==============================] - ETA: 0s - loss: 8.7093e-04 - accuracy: 1.0000INFO:tensorflow:Assets written to: ./tmp/checkpoint/assets\n",
            "38/38 [==============================] - 130s 3s/step - loss: 8.7093e-04 - accuracy: 1.0000 - val_loss: 2.5576 - val_accuracy: 0.4700\n",
            "Epoch 93/400\n",
            "38/38 [==============================] - ETA: 0s - loss: 8.0247e-04 - accuracy: 1.0000INFO:tensorflow:Assets written to: ./tmp/checkpoint/assets\n",
            "38/38 [==============================] - 131s 3s/step - loss: 8.0247e-04 - accuracy: 1.0000 - val_loss: 2.5810 - val_accuracy: 0.4700\n",
            "Epoch 94/400\n",
            "38/38 [==============================] - ETA: 0s - loss: 7.4399e-04 - accuracy: 1.0000INFO:tensorflow:Assets written to: ./tmp/checkpoint/assets\n",
            "38/38 [==============================] - 130s 3s/step - loss: 7.4399e-04 - accuracy: 1.0000 - val_loss: 2.6037 - val_accuracy: 0.4700\n",
            "Epoch 95/400\n",
            "38/38 [==============================] - ETA: 0s - loss: 6.9215e-04 - accuracy: 1.0000INFO:tensorflow:Assets written to: ./tmp/checkpoint/assets\n",
            "38/38 [==============================] - 131s 3s/step - loss: 6.9215e-04 - accuracy: 1.0000 - val_loss: 2.6267 - val_accuracy: 0.4700\n",
            "Epoch 96/400\n",
            "38/38 [==============================] - ETA: 0s - loss: 6.4537e-04 - accuracy: 1.0000INFO:tensorflow:Assets written to: ./tmp/checkpoint/assets\n",
            "38/38 [==============================] - 130s 3s/step - loss: 6.4537e-04 - accuracy: 1.0000 - val_loss: 2.6478 - val_accuracy: 0.4700\n",
            "Epoch 97/400\n",
            "38/38 [==============================] - ETA: 0s - loss: 6.0378e-04 - accuracy: 1.0000INFO:tensorflow:Assets written to: ./tmp/checkpoint/assets\n",
            "38/38 [==============================] - 131s 3s/step - loss: 6.0378e-04 - accuracy: 1.0000 - val_loss: 2.6648 - val_accuracy: 0.4700\n",
            "Epoch 98/400\n",
            "38/38 [==============================] - ETA: 0s - loss: 5.6558e-04 - accuracy: 1.0000INFO:tensorflow:Assets written to: ./tmp/checkpoint/assets\n",
            "38/38 [==============================] - 130s 3s/step - loss: 5.6558e-04 - accuracy: 1.0000 - val_loss: 2.6813 - val_accuracy: 0.4700\n",
            "Epoch 99/400\n",
            "38/38 [==============================] - ETA: 0s - loss: 5.3084e-04 - accuracy: 1.0000INFO:tensorflow:Assets written to: ./tmp/checkpoint/assets\n",
            "38/38 [==============================] - 131s 3s/step - loss: 5.3084e-04 - accuracy: 1.0000 - val_loss: 2.6978 - val_accuracy: 0.4700\n",
            "Epoch 100/400\n",
            "38/38 [==============================] - ETA: 0s - loss: 4.9837e-04 - accuracy: 1.0000INFO:tensorflow:Assets written to: ./tmp/checkpoint/assets\n",
            "38/38 [==============================] - 131s 3s/step - loss: 4.9837e-04 - accuracy: 1.0000 - val_loss: 2.7143 - val_accuracy: 0.4700\n",
            "Epoch 101/400\n",
            "38/38 [==============================] - ETA: 0s - loss: 4.6816e-04 - accuracy: 1.0000INFO:tensorflow:Assets written to: ./tmp/checkpoint/assets\n",
            "38/38 [==============================] - 130s 3s/step - loss: 4.6816e-04 - accuracy: 1.0000 - val_loss: 2.7308 - val_accuracy: 0.4600\n",
            "Epoch 102/400\n",
            "38/38 [==============================] - ETA: 0s - loss: 4.4084e-04 - accuracy: 1.0000INFO:tensorflow:Assets written to: ./tmp/checkpoint/assets\n",
            "38/38 [==============================] - 130s 3s/step - loss: 4.4084e-04 - accuracy: 1.0000 - val_loss: 2.7459 - val_accuracy: 0.4600\n",
            "Epoch 103/400\n",
            "38/38 [==============================] - ETA: 0s - loss: 4.1649e-04 - accuracy: 1.0000INFO:tensorflow:Assets written to: ./tmp/checkpoint/assets\n",
            "38/38 [==============================] - 130s 3s/step - loss: 4.1649e-04 - accuracy: 1.0000 - val_loss: 2.7594 - val_accuracy: 0.4600\n",
            "Epoch 104/400\n",
            "38/38 [==============================] - ETA: 0s - loss: 3.9426e-04 - accuracy: 1.0000INFO:tensorflow:Assets written to: ./tmp/checkpoint/assets\n",
            "38/38 [==============================] - 130s 3s/step - loss: 3.9426e-04 - accuracy: 1.0000 - val_loss: 2.7743 - val_accuracy: 0.4600\n",
            "Epoch 105/400\n",
            "38/38 [==============================] - ETA: 0s - loss: 3.7403e-04 - accuracy: 1.0000INFO:tensorflow:Assets written to: ./tmp/checkpoint/assets\n",
            "38/38 [==============================] - 130s 3s/step - loss: 3.7403e-04 - accuracy: 1.0000 - val_loss: 2.7896 - val_accuracy: 0.4600\n",
            "Epoch 106/400\n",
            "38/38 [==============================] - ETA: 0s - loss: 3.5400e-04 - accuracy: 1.0000INFO:tensorflow:Assets written to: ./tmp/checkpoint/assets\n",
            "38/38 [==============================] - 131s 3s/step - loss: 3.5400e-04 - accuracy: 1.0000 - val_loss: 2.8050 - val_accuracy: 0.4600\n",
            "Epoch 107/400\n",
            "38/38 [==============================] - ETA: 0s - loss: 3.3629e-04 - accuracy: 1.0000INFO:tensorflow:Assets written to: ./tmp/checkpoint/assets\n",
            "38/38 [==============================] - 130s 3s/step - loss: 3.3629e-04 - accuracy: 1.0000 - val_loss: 2.8173 - val_accuracy: 0.4600\n",
            "Epoch 108/400\n",
            "38/38 [==============================] - ETA: 0s - loss: 3.2068e-04 - accuracy: 1.0000INFO:tensorflow:Assets written to: ./tmp/checkpoint/assets\n",
            "38/38 [==============================] - 130s 3s/step - loss: 3.2068e-04 - accuracy: 1.0000 - val_loss: 2.8307 - val_accuracy: 0.4600\n",
            "Epoch 109/400\n",
            "38/38 [==============================] - ETA: 0s - loss: 3.0443e-04 - accuracy: 1.0000INFO:tensorflow:Assets written to: ./tmp/checkpoint/assets\n",
            "38/38 [==============================] - 130s 3s/step - loss: 3.0443e-04 - accuracy: 1.0000 - val_loss: 2.8461 - val_accuracy: 0.4600\n",
            "Epoch 110/400\n",
            "38/38 [==============================] - ETA: 0s - loss: 2.8961e-04 - accuracy: 1.0000INFO:tensorflow:Assets written to: ./tmp/checkpoint/assets\n",
            "38/38 [==============================] - 131s 3s/step - loss: 2.8961e-04 - accuracy: 1.0000 - val_loss: 2.8599 - val_accuracy: 0.4600\n",
            "Epoch 111/400\n",
            "38/38 [==============================] - ETA: 0s - loss: 2.7627e-04 - accuracy: 1.0000INFO:tensorflow:Assets written to: ./tmp/checkpoint/assets\n",
            "38/38 [==============================] - 130s 3s/step - loss: 2.7627e-04 - accuracy: 1.0000 - val_loss: 2.8737 - val_accuracy: 0.4600\n",
            "Epoch 112/400\n",
            "38/38 [==============================] - ETA: 0s - loss: 2.6378e-04 - accuracy: 1.0000INFO:tensorflow:Assets written to: ./tmp/checkpoint/assets\n",
            "38/38 [==============================] - 130s 3s/step - loss: 2.6378e-04 - accuracy: 1.0000 - val_loss: 2.8877 - val_accuracy: 0.4600\n",
            "Epoch 113/400\n",
            "38/38 [==============================] - ETA: 0s - loss: 2.5173e-04 - accuracy: 1.0000INFO:tensorflow:Assets written to: ./tmp/checkpoint/assets\n",
            "38/38 [==============================] - 130s 3s/step - loss: 2.5173e-04 - accuracy: 1.0000 - val_loss: 2.9016 - val_accuracy: 0.4600\n",
            "Epoch 114/400\n",
            "38/38 [==============================] - ETA: 0s - loss: 2.4037e-04 - accuracy: 1.0000INFO:tensorflow:Assets written to: ./tmp/checkpoint/assets\n",
            "38/38 [==============================] - 131s 3s/step - loss: 2.4037e-04 - accuracy: 1.0000 - val_loss: 2.9139 - val_accuracy: 0.4600\n",
            "Epoch 115/400\n",
            "38/38 [==============================] - ETA: 0s - loss: 2.3027e-04 - accuracy: 1.0000INFO:tensorflow:Assets written to: ./tmp/checkpoint/assets\n",
            "38/38 [==============================] - 130s 3s/step - loss: 2.3027e-04 - accuracy: 1.0000 - val_loss: 2.9261 - val_accuracy: 0.4600\n",
            "Epoch 116/400\n",
            "38/38 [==============================] - ETA: 0s - loss: 2.2008e-04 - accuracy: 1.0000INFO:tensorflow:Assets written to: ./tmp/checkpoint/assets\n",
            "38/38 [==============================] - 131s 3s/step - loss: 2.2008e-04 - accuracy: 1.0000 - val_loss: 2.9384 - val_accuracy: 0.4600\n",
            "Epoch 117/400\n",
            "38/38 [==============================] - ETA: 0s - loss: 2.1071e-04 - accuracy: 1.0000INFO:tensorflow:Assets written to: ./tmp/checkpoint/assets\n",
            "38/38 [==============================] - 130s 3s/step - loss: 2.1071e-04 - accuracy: 1.0000 - val_loss: 2.9502 - val_accuracy: 0.4600\n",
            "Epoch 118/400\n",
            "38/38 [==============================] - ETA: 0s - loss: 2.0199e-04 - accuracy: 1.0000INFO:tensorflow:Assets written to: ./tmp/checkpoint/assets\n",
            "38/38 [==============================] - 131s 3s/step - loss: 2.0199e-04 - accuracy: 1.0000 - val_loss: 2.9604 - val_accuracy: 0.4600\n",
            "Epoch 119/400\n",
            "38/38 [==============================] - ETA: 0s - loss: 1.9364e-04 - accuracy: 1.0000INFO:tensorflow:Assets written to: ./tmp/checkpoint/assets\n",
            "38/38 [==============================] - 130s 3s/step - loss: 1.9364e-04 - accuracy: 1.0000 - val_loss: 2.9715 - val_accuracy: 0.4600\n",
            "Epoch 120/400\n",
            "38/38 [==============================] - ETA: 0s - loss: 1.8576e-04 - accuracy: 1.0000INFO:tensorflow:Assets written to: ./tmp/checkpoint/assets\n",
            "38/38 [==============================] - 131s 3s/step - loss: 1.8576e-04 - accuracy: 1.0000 - val_loss: 2.9821 - val_accuracy: 0.4600\n",
            "Epoch 121/400\n",
            "38/38 [==============================] - ETA: 0s - loss: 1.7842e-04 - accuracy: 1.0000INFO:tensorflow:Assets written to: ./tmp/checkpoint/assets\n",
            "38/38 [==============================] - 130s 3s/step - loss: 1.7842e-04 - accuracy: 1.0000 - val_loss: 2.9926 - val_accuracy: 0.4600\n",
            "Epoch 122/400\n",
            "38/38 [==============================] - ETA: 0s - loss: 1.7139e-04 - accuracy: 1.0000INFO:tensorflow:Assets written to: ./tmp/checkpoint/assets\n",
            "38/38 [==============================] - 131s 3s/step - loss: 1.7139e-04 - accuracy: 1.0000 - val_loss: 3.0019 - val_accuracy: 0.4600\n",
            "Epoch 123/400\n",
            "38/38 [==============================] - ETA: 0s - loss: 1.6460e-04 - accuracy: 1.0000INFO:tensorflow:Assets written to: ./tmp/checkpoint/assets\n",
            "38/38 [==============================] - 130s 3s/step - loss: 1.6460e-04 - accuracy: 1.0000 - val_loss: 3.0123 - val_accuracy: 0.4600\n",
            "Epoch 124/400\n",
            "38/38 [==============================] - ETA: 0s - loss: 1.5816e-04 - accuracy: 1.0000INFO:tensorflow:Assets written to: ./tmp/checkpoint/assets\n",
            "38/38 [==============================] - 131s 3s/step - loss: 1.5816e-04 - accuracy: 1.0000 - val_loss: 3.0215 - val_accuracy: 0.4600\n",
            "Epoch 125/400\n",
            "38/38 [==============================] - ETA: 0s - loss: 1.5231e-04 - accuracy: 1.0000INFO:tensorflow:Assets written to: ./tmp/checkpoint/assets\n",
            "38/38 [==============================] - 130s 3s/step - loss: 1.5231e-04 - accuracy: 1.0000 - val_loss: 3.0315 - val_accuracy: 0.4600\n",
            "Epoch 126/400\n",
            "38/38 [==============================] - ETA: 0s - loss: 1.4654e-04 - accuracy: 1.0000INFO:tensorflow:Assets written to: ./tmp/checkpoint/assets\n",
            "38/38 [==============================] - 131s 3s/step - loss: 1.4654e-04 - accuracy: 1.0000 - val_loss: 3.0421 - val_accuracy: 0.4600\n",
            "Epoch 127/400\n",
            "38/38 [==============================] - ETA: 0s - loss: 1.4118e-04 - accuracy: 1.0000INFO:tensorflow:Assets written to: ./tmp/checkpoint/assets\n",
            "38/38 [==============================] - 130s 3s/step - loss: 1.4118e-04 - accuracy: 1.0000 - val_loss: 3.0515 - val_accuracy: 0.4600\n",
            "Epoch 128/400\n",
            "38/38 [==============================] - ETA: 0s - loss: 1.3595e-04 - accuracy: 1.0000INFO:tensorflow:Assets written to: ./tmp/checkpoint/assets\n",
            "38/38 [==============================] - 131s 3s/step - loss: 1.3595e-04 - accuracy: 1.0000 - val_loss: 3.0614 - val_accuracy: 0.4600\n",
            "Epoch 129/400\n",
            "24/38 [=================>............] - ETA: 42s - loss: 1.5166e-04 - accuracy: 1.0000"
          ]
        }
      ],
      "source": [
        "# model.fit(train_files['padded'].map(lambda x : tf.convert_to_tensor(x.numpy())), train_files['label'], epochs=10, validation_data=(val_files['padded'].map(lambda x : tf.convert_to_tensor(x.numpy())), val_files['label']))\n",
        "model.fit(train_ds, epochs=EPOCHS, validation_data=val_ds, callbacks=[checkpoint_callback])"
      ]
    }
  ],
  "metadata": {
    "accelerator": "GPU",
    "colab": {
      "collapsed_sections": [],
      "name": "paper.ipynb",
      "provenance": []
    },
    "interpreter": {
      "hash": "1e5983e64bdf840368ab29cea7e1e8f9b41dcdac8639741a33a347d09d965169"
    },
    "kernelspec": {
      "display_name": "Python 3.9.10 ('tf-gpu')",
      "language": "python",
      "name": "python3"
    },
    "language_info": {
      "codemirror_mode": {
        "name": "ipython",
        "version": 3
      },
      "file_extension": ".py",
      "mimetype": "text/x-python",
      "name": "python",
      "nbconvert_exporter": "python",
      "pygments_lexer": "ipython3",
      "version": "3.9.10"
    },
    "orig_nbformat": 4
  },
  "nbformat": 4,
  "nbformat_minor": 0
}
