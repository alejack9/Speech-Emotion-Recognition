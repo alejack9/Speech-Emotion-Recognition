{
 "cells": [
  {
   "attachments": {},
   "cell_type": "markdown",
   "metadata": {},
   "source": [
    "# Testing of a model based on ESD or SAVEE ds"
   ]
  },
  {
   "cell_type": "code",
   "execution_count": 4,
   "metadata": {},
   "outputs": [],
   "source": [
    "import sys\n",
    "sys.path.insert(0, \"../\")"
   ]
  },
  {
   "cell_type": "code",
   "execution_count": 9,
   "metadata": {},
   "outputs": [],
   "source": [
    "from tensorflow import keras\n",
    "\n",
    "import libs.data_loader as data_loader\n",
    "import libs.data_operations as data_ops\n",
    "\n",
    "import re\n",
    "\n",
    "ESD_data_dir = \"../data/ESD/\"\n",
    "SAVEE_data_dir = \"../data/SAVEE/\"\n",
    "\n",
    "# SAVEE - specific\n",
    "def get_SAVEE_label(file_path):\n",
    "  parts = re.sub('.+\\_|[0-9]+.wav', '', file_path)\n",
    "  return parts\n",
    "\n",
    "def get_SAVEE_speaker_name(file_path):\n",
    "  parts = re.sub('.*[/]+|\\_|[a-z]+[0-9]+.wav', '', file_path)\n",
    "  return parts\n",
    "\n",
    "# ESD - specific\n",
    "def get_ESD_label(file_path):\n",
    "  parts = re.sub('.*[/]+[a-z]\\_|\\_[0-9]+.wav', '', file_path)\n",
    "  return parts\n",
    "\n",
    "def get_ESD_speaker_name(file_path):\n",
    "  parts = re.sub('.*[/]+|\\_|[a-z]+_[0-9]+.wav', '', file_path)\n",
    "  return parts"
   ]
  },
  {
   "cell_type": "code",
   "execution_count": 10,
   "metadata": {},
   "outputs": [],
   "source": [
    "SAVEE_df, _, SAVEE_max_sample_rate = data_loader.get_dataset_information(SAVEE_data_dir, get_SAVEE_label, get_SAVEE_speaker_name)"
   ]
  },
  {
   "cell_type": "code",
   "execution_count": null,
   "metadata": {},
   "outputs": [],
   "source": [
    "ESD_df, _, ESD_max_sample_rate = data_loader.get_dataset_information(ESD_data_dir, get_ESD_label, get_ESD_speaker_name)"
   ]
  },
  {
   "cell_type": "code",
   "execution_count": 3,
   "metadata": {},
   "outputs": [
    {
     "data": {
      "text/plain": [
       "44100"
      ]
     },
     "execution_count": 3,
     "metadata": {},
     "output_type": "execute_result"
    }
   ],
   "source": [
    "SAVEE_max_sample_rate"
   ]
  },
  {
   "cell_type": "code",
   "execution_count": null,
   "metadata": {},
   "outputs": [],
   "source": [
    "ESD_max_sample_rate"
   ]
  },
  {
   "attachments": {},
   "cell_type": "markdown",
   "metadata": {},
   "source": [
    "## Test setting"
   ]
  },
  {
   "cell_type": "code",
   "execution_count": 7,
   "metadata": {},
   "outputs": [],
   "source": [
    "# # ESD 1 -> [2.5366714000701904, 0.6200000047683716]\n",
    "# model_path = \"../saved_models/mModel_convl4_fcl2_fcsize20_filters32_fsize3_poolsize4_act_relu_drop0_lr001_b19_b2999____s7_b32_d0.5_p80_o_crop_sz80,10,10/\"\n",
    "\n",
    "# seconds = 7\n",
    "# batch_size = 32\n",
    "# splits = [80, 10, 10]\n",
    "\n",
    "# data_preprocessing = lambda total_audio_frames: [\n",
    "#   data_ops.Crop(),\n",
    "# ]\n",
    "\n",
    "# ESD 2 -> [2.217633008956909, 0.7048743367195129]\n",
    "# model_path = \"../saved_models/mModel_convl5_fcl3_fcsize20_filters32_fsize9_poolsize4_act_relu_drop0.2_lr001_b19_b2999____s4_b64_d0.5_p80_o_crop_norm_sz70,15,15/\"\n",
    "\n",
    "# seconds = 4\n",
    "# batch_size = 64\n",
    "# splits = [70, 15, 15]\n",
    "\n",
    "# data_preprocessing = lambda total_audio_frames: [\n",
    "#    data_ops.Crop(),\n",
    "#   data_ops.Normalize()\n",
    "# ]"
   ]
  },
  {
   "cell_type": "code",
   "execution_count": 21,
   "metadata": {},
   "outputs": [],
   "source": [
    "# # SAVEE 1 -> [1.0781581401824951, 0.6499999761581421]\n",
    "# model_path = \"../saved_models/mModel_convl2_fcl2_fcsize20_filters32_fsize20_poolsize2_act_relu_drop0_lr001_b19_b2999____s8_b32_p80_o_crop_sz62.5,20.833,16.666/\"\n",
    "\n",
    "# seconds = 8\n",
    "# batch_size = 2\n",
    "# splits = [62.5, 20.833, 16.666]\n",
    "\n",
    "# data_preprocessing = lambda total_audio_frames: [\n",
    "#    data_ops.Crop()\n",
    "# ]\n",
    "\n",
    "# # SAVEE 2 -> [5.0126872062683105, 0.6831682920455933]\n",
    "# model_path = \"../saved_models/mPaperModel_s3_b16_d0_p80_o_crop_fade15_sz62.5,20.833,16.666/\"\n",
    "# seconds = 3\n",
    "# batch_size = 2\n",
    "# splits = [62.5, 20.833, 16.666]\n",
    "\n",
    "# data_preprocessing = lambda total_audio_frames: [\n",
    "#    data_ops.Crop(),\n",
    "#    data_ops.Fade(total_audio_frames * 0.15, total_audio_frames * 0.15),\n",
    "# ]\n",
    "\n",
    "\n",
    "# # SAVEE 2 -> [11.47180461883545, 0.5060241222381592]\n",
    "# model_path = \"../saved_models/mPaperModel_s4_b16_d0.2_p80_o_fade05_crop_sz62.5,20.833,16.666/\"\n",
    "# seconds = 4\n",
    "# batch_size = 2\n",
    "# splits = [62.5, 20.833, 16.666]\n",
    "\n",
    "# data_preprocessing = lambda total_audio_frames: [\n",
    "#    data_ops.Fade(total_audio_frames * 0.05, total_audio_frames * 0.05),\n",
    "#    data_ops.Crop(),\n",
    "# ]\n",
    "\n",
    "# # SAVEE 3 -> [5.99491024017334, 0.625]\n",
    "# model_path = \"../saved_models/mPaperModel_s5_b16_d0_p80_o_fade10_crop_sz62.5,20.833,16.666/\"\n",
    "# seconds = 5\n",
    "# batch_size = 2\n",
    "# splits = [62.5, 20.833, 16.666]\n",
    "\n",
    "# data_preprocessing = lambda total_audio_frames: [\n",
    "#    data_ops.Fade(total_audio_frames * 0.10, total_audio_frames * 0.10),\n",
    "#    data_ops.Crop(),\n",
    "\n",
    "   \n",
    "# # SAVEE 4 -> [10.375558853149414, 0.612500011920929]\n",
    "# model_path = \"../saved_models/mPaperModel_s8_b8_d0_p80_o_crop_fade10_norm_sz62.5,20.833,16.666/\"\n",
    "# seconds = 8\n",
    "# batch_size = 2\n",
    "# splits = [62.5, 20.833, 16.666]\n",
    "\n",
    "# data_preprocessing = lambda total_audio_frames: [\n",
    "#    data_ops.Crop(),\n",
    "#    data_ops.Fade(total_audio_frames * 0.10, total_audio_frames * 0.10),\n",
    "#    data_ops.Normalize()\n",
    "# ]\n",
    "\n",
    "# SAVEE 5 (ORIGINAL PAPER MODEL) -> [10.375558853149414, 0.612500011920929]\n",
    "model_path = \"../saved_models/mPaperModel_s8_b8_d0_p80_o_crop_sz62.5,20.833,16.666/\"\n",
    "seconds = 8\n",
    "batch_size = 2\n",
    "splits = [62.5, 20.833, 16.666]\n",
    "\n",
    "data_preprocessing = lambda total_audio_frames: [\n",
    "   data_ops.Crop(),\n",
    "]"
   ]
  },
  {
   "attachments": {},
   "cell_type": "markdown",
   "metadata": {},
   "source": [
    "### SAVEE"
   ]
  },
  {
   "cell_type": "code",
   "execution_count": 22,
   "metadata": {},
   "outputs": [
    {
     "name": "stdout",
     "output_type": "stream",
     "text": [
      "Model: \"sequential_517\"\n",
      "_________________________________________________________________\n",
      " Layer (type)                Output Shape              Param #   \n",
      "=================================================================\n",
      " conv1d_3619 (Conv1D)        (None, 352780, 32)        704       \n",
      "                                                                 \n",
      " batch_normalization_3619 (B  (None, 352780, 32)       128       \n",
      " atchNormalization)                                              \n",
      "                                                                 \n",
      " max_pooling1d_3102 (MaxPool  (None, 176390, 32)       0         \n",
      " ing1D)                                                          \n",
      "                                                                 \n",
      " conv1d_3620 (Conv1D)        (None, 176372, 64)        38976     \n",
      "                                                                 \n",
      " batch_normalization_3620 (B  (None, 176372, 64)       256       \n",
      " atchNormalization)                                              \n",
      "                                                                 \n",
      " max_pooling1d_3103 (MaxPool  (None, 88186, 64)        0         \n",
      " ing1D)                                                          \n",
      "                                                                 \n",
      " conv1d_3621 (Conv1D)        (None, 88170, 128)        139392    \n",
      "                                                                 \n",
      " batch_normalization_3621 (B  (None, 88170, 128)       512       \n",
      " atchNormalization)                                              \n",
      "                                                                 \n",
      " max_pooling1d_3104 (MaxPool  (None, 44085, 128)       0         \n",
      " ing1D)                                                          \n",
      "                                                                 \n",
      " conv1d_3622 (Conv1D)        (None, 44071, 256)        491776    \n",
      "                                                                 \n",
      " batch_normalization_3622 (B  (None, 44071, 256)       1024      \n",
      " atchNormalization)                                              \n",
      "                                                                 \n",
      " max_pooling1d_3105 (MaxPool  (None, 22035, 256)       0         \n",
      " ing1D)                                                          \n",
      "                                                                 \n",
      " conv1d_3623 (Conv1D)        (None, 22023, 512)        1704448   \n",
      "                                                                 \n",
      " batch_normalization_3623 (B  (None, 22023, 512)       2048      \n",
      " atchNormalization)                                              \n",
      "                                                                 \n",
      " max_pooling1d_3106 (MaxPool  (None, 11011, 512)       0         \n",
      " ing1D)                                                          \n",
      "                                                                 \n",
      " conv1d_3624 (Conv1D)        (None, 11001, 1024)       5768192   \n",
      "                                                                 \n",
      " batch_normalization_3624 (B  (None, 11001, 1024)      4096      \n",
      " atchNormalization)                                              \n",
      "                                                                 \n",
      " max_pooling1d_3107 (MaxPool  (None, 5500, 1024)       0         \n",
      " ing1D)                                                          \n",
      "                                                                 \n",
      " conv1d_3625 (Conv1D)        (None, 5492, 1024)        9438208   \n",
      "                                                                 \n",
      " batch_normalization_3625 (B  (None, 5492, 1024)       4096      \n",
      " atchNormalization)                                              \n",
      "                                                                 \n",
      " global_max_pooling1d_517 (G  (None, 1024)             0         \n",
      " lobalMaxPooling1D)                                              \n",
      "                                                                 \n",
      " dense_1034 (Dense)          (None, 128)               131200    \n",
      "                                                                 \n",
      " dense_1035 (Dense)          (None, 7)                 903       \n",
      "                                                                 \n",
      "=================================================================\n",
      "Total params: 17,725,959\n",
      "Trainable params: 17,719,879\n",
      "Non-trainable params: 6,080\n",
      "_________________________________________________________________\n",
      "WARNING:tensorflow:Using a while_loop for converting IO>AudioResample\n"
     ]
    },
    {
     "name": "stderr",
     "output_type": "stream",
     "text": [
      "WARNING:tensorflow:Using a while_loop for converting IO>AudioResample\n"
     ]
    },
    {
     "name": "stdout",
     "output_type": "stream",
     "text": [
      "WARNING:tensorflow:Using a while_loop for converting IO>AudioResample\n"
     ]
    },
    {
     "name": "stderr",
     "output_type": "stream",
     "text": [
      "WARNING:tensorflow:Using a while_loop for converting IO>AudioResample\n"
     ]
    },
    {
     "name": "stdout",
     "output_type": "stream",
     "text": [
      "WARNING:tensorflow:Using a while_loop for converting IO>AudioResample\n"
     ]
    },
    {
     "name": "stderr",
     "output_type": "stream",
     "text": [
      "WARNING:tensorflow:Using a while_loop for converting IO>AudioResample\n"
     ]
    },
    {
     "name": "stdout",
     "output_type": "stream",
     "text": [
      "40/40 [==============================] - 60s 1s/step - loss: 9.7751 - accuracy: 0.6250\n"
     ]
    },
    {
     "data": {
      "text/plain": [
       "[9.775077819824219, 0.625]"
      ]
     },
     "execution_count": 22,
     "metadata": {},
     "output_type": "execute_result"
    }
   ],
   "source": [
    "SAVEE_model = keras.models.load_model(model_path)\n",
    "SAVEE_model.summary()\n",
    "\n",
    "_, _, SAVEE_test_ds, _ = data_loader.load_datasets(SAVEE_df, SAVEE_max_sample_rate, seconds, data_preprocessing, splits)\n",
    "\n",
    "SAVEE_test_ds = SAVEE_test_ds.batch(batch_size)\n",
    "\n",
    "SAVEE_model.evaluate(SAVEE_test_ds)"
   ]
  },
  {
   "attachments": {},
   "cell_type": "markdown",
   "metadata": {},
   "source": [
    "### ESD"
   ]
  },
  {
   "cell_type": "code",
   "execution_count": 8,
   "metadata": {},
   "outputs": [
    {
     "name": "stdout",
     "output_type": "stream",
     "text": [
      "Model: \"sequential_17\"\n",
      "_________________________________________________________________\n",
      " Layer (type)                Output Shape              Param #   \n",
      "=================================================================\n",
      " conv1d_85 (Conv1D)          (None, 63992, 32)         320       \n",
      "                                                                 \n",
      " batch_normalization_85 (Bat  (None, 63992, 32)        128       \n",
      " chNormalization)                                                \n",
      "                                                                 \n",
      " max_pooling1d_68 (MaxPoolin  (None, 15998, 32)        0         \n",
      " g1D)                                                            \n",
      "                                                                 \n",
      " conv1d_86 (Conv1D)          (None, 15990, 32)         9248      \n",
      "                                                                 \n",
      " batch_normalization_86 (Bat  (None, 15990, 32)        128       \n",
      " chNormalization)                                                \n",
      "                                                                 \n",
      " max_pooling1d_69 (MaxPoolin  (None, 3997, 32)         0         \n",
      " g1D)                                                            \n",
      "                                                                 \n",
      " conv1d_87 (Conv1D)          (None, 3989, 32)          9248      \n",
      "                                                                 \n",
      " batch_normalization_87 (Bat  (None, 3989, 32)         128       \n",
      " chNormalization)                                                \n",
      "                                                                 \n",
      " max_pooling1d_70 (MaxPoolin  (None, 997, 32)          0         \n",
      " g1D)                                                            \n",
      "                                                                 \n",
      " conv1d_88 (Conv1D)          (None, 989, 32)           9248      \n",
      "                                                                 \n",
      " batch_normalization_88 (Bat  (None, 989, 32)          128       \n",
      " chNormalization)                                                \n",
      "                                                                 \n",
      " max_pooling1d_71 (MaxPoolin  (None, 247, 32)          0         \n",
      " g1D)                                                            \n",
      "                                                                 \n",
      " conv1d_89 (Conv1D)          (None, 239, 32)           9248      \n",
      "                                                                 \n",
      " batch_normalization_89 (Bat  (None, 239, 32)          128       \n",
      " chNormalization)                                                \n",
      "                                                                 \n",
      " global_max_pooling1d_17 (Gl  (None, 32)               0         \n",
      " obalMaxPooling1D)                                               \n",
      "                                                                 \n",
      " dense_68 (Dense)            (None, 20)                660       \n",
      "                                                                 \n",
      " dropout_51 (Dropout)        (None, 20)                0         \n",
      "                                                                 \n",
      " dense_69 (Dense)            (None, 20)                420       \n",
      "                                                                 \n",
      " dropout_52 (Dropout)        (None, 20)                0         \n",
      "                                                                 \n",
      " dense_70 (Dense)            (None, 20)                420       \n",
      "                                                                 \n",
      " dropout_53 (Dropout)        (None, 20)                0         \n",
      "                                                                 \n",
      " dense_71 (Dense)            (None, 5)                 105       \n",
      "                                                                 \n",
      "=================================================================\n",
      "Total params: 39,557\n",
      "Trainable params: 39,237\n",
      "Non-trainable params: 320\n",
      "_________________________________________________________________\n",
      "WARNING:tensorflow:Using a while_loop for converting IO>AudioResample\n"
     ]
    },
    {
     "name": "stderr",
     "output_type": "stream",
     "text": [
      "WARNING:tensorflow:Using a while_loop for converting IO>AudioResample\n"
     ]
    },
    {
     "name": "stdout",
     "output_type": "stream",
     "text": [
      "WARNING:tensorflow:Using a while_loop for converting IO>AudioResample\n"
     ]
    },
    {
     "name": "stderr",
     "output_type": "stream",
     "text": [
      "WARNING:tensorflow:Using a while_loop for converting IO>AudioResample\n"
     ]
    },
    {
     "name": "stdout",
     "output_type": "stream",
     "text": [
      "WARNING:tensorflow:Using a while_loop for converting IO>AudioResample\n"
     ]
    },
    {
     "name": "stderr",
     "output_type": "stream",
     "text": [
      "WARNING:tensorflow:Using a while_loop for converting IO>AudioResample\n"
     ]
    },
    {
     "name": "stdout",
     "output_type": "stream",
     "text": [
      "42/42 [==============================] - 29s 613ms/step - loss: 2.2176 - accuracy: 0.7049\n"
     ]
    },
    {
     "data": {
      "text/plain": [
       "[2.217633008956909, 0.7048743367195129]"
      ]
     },
     "execution_count": 8,
     "metadata": {},
     "output_type": "execute_result"
    }
   ],
   "source": [
    "ESD_model = keras.models.load_model(model_path)\n",
    "ESD_model.summary()\n",
    "\n",
    "_, _, ESD_test_ds, _ = data_loader.load_datasets(ESD_df, ESD_max_sample_rate, seconds, data_preprocessing, splits)\n",
    "\n",
    "ESD_test_ds = ESD_test_ds.batch(batch_size)\n",
    "\n",
    "ESD_model.evaluate(ESD_test_ds)"
   ]
  }
 ],
 "metadata": {
  "kernelspec": {
   "display_name": "Python 3.9.10 ('tf-gpu')",
   "language": "python",
   "name": "python3"
  },
  "language_info": {
   "codemirror_mode": {
    "name": "ipython",
    "version": 3
   },
   "file_extension": ".py",
   "mimetype": "text/x-python",
   "name": "python",
   "nbconvert_exporter": "python",
   "pygments_lexer": "ipython3",
   "version": "3.9.10"
  },
  "orig_nbformat": 4,
  "vscode": {
   "interpreter": {
    "hash": "1e5983e64bdf840368ab29cea7e1e8f9b41dcdac8639741a33a347d09d965169"
   }
  }
 },
 "nbformat": 4,
 "nbformat_minor": 2
}
