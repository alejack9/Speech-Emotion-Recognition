{
 "cells": [
  {
   "attachments": {},
   "cell_type": "markdown",
   "metadata": {},
   "source": [
    "# SAVEE and ESD testing\n",
    "\n",
    "Here the best model found on the val subset of SAVEE is tested firstly on the test subset of SAVEE and also on the ESD test subdataset.\n",
    "\n",
    "In addition, the reverse action is also done and best ESD trained model is tested on SAVEE test data."
   ]
  },
  {
   "cell_type": "code",
   "execution_count": 1,
   "metadata": {},
   "outputs": [],
   "source": [
    "import sys\n",
    "sys.path.insert(0, \"../\")"
   ]
  },
  {
   "cell_type": "code",
   "execution_count": 2,
   "metadata": {},
   "outputs": [],
   "source": [
    "from tensorflow import keras\n",
    "\n",
    "import libs.data_loader as data_loader\n",
    "import libs.data_operations as data_ops\n",
    "\n",
    "import re\n",
    "\n",
    "ESD_data_dir = \"../data/ESD/\"\n",
    "SAVEE_data_dir = \"../data/SAVEE/\"\n",
    "\n",
    "# SAVEE - specific\n",
    "def get_SAVEE_label(file_path):\n",
    "  parts = re.sub('.+\\_|[0-9]+.wav', '', file_path)\n",
    "  return parts\n",
    "\n",
    "def get_SAVEE_speaker_name(file_path):\n",
    "  parts = re.sub('.*[/]+|\\_|[a-z]+[0-9]+.wav', '', file_path)\n",
    "  return parts\n",
    "\n",
    "# ESD - specific\n",
    "def get_ESD_label(file_path):\n",
    "  parts = re.sub('.*[/]+[a-z]\\_|\\_[0-9]+.wav', '', file_path)\n",
    "  return parts\n",
    "\n",
    "def get_ESD_speaker_name(file_path):\n",
    "  parts = re.sub('.*[/]+|\\_|[a-z]+_[0-9]+.wav', '', file_path)\n",
    "  return parts"
   ]
  },
  {
   "cell_type": "code",
   "execution_count": 2,
   "metadata": {},
   "outputs": [],
   "source": [
    "SAVEE_df, _, SAVEE_max_sample_rate = data_loader.get_dataset_information(SAVEE_data_dir, get_SAVEE_label, get_SAVEE_speaker_name)"
   ]
  },
  {
   "cell_type": "code",
   "execution_count": 3,
   "metadata": {},
   "outputs": [],
   "source": [
    "ESD_df, _, ESD_max_sample_rate = data_loader.get_dataset_information(ESD_data_dir, get_ESD_label, get_ESD_speaker_name)"
   ]
  },
  {
   "cell_type": "code",
   "execution_count": 4,
   "metadata": {},
   "outputs": [
    {
     "data": {
      "text/plain": [
       "(44100, 16000)"
      ]
     },
     "execution_count": 4,
     "metadata": {},
     "output_type": "execute_result"
    }
   ],
   "source": [
    "SAVEE_max_sample_rate, ESD_max_sample_rate"
   ]
  },
  {
   "cell_type": "markdown",
   "metadata": {},
   "source": [
    "## Best SAVEE on ESD"
   ]
  },
  {
   "cell_type": "code",
   "execution_count": 5,
   "metadata": {},
   "outputs": [
    {
     "name": "stdout",
     "output_type": "stream",
     "text": [
      "Model: \"sequential_79\"\n",
      "_________________________________________________________________\n",
      " Layer (type)                Output Shape              Param #   \n",
      "=================================================================\n",
      " conv1d_553 (Conv1D)         (None, 132280, 32)        704       \n",
      "                                                                 \n",
      " batch_normalization_553 (Ba  (None, 132280, 32)       128       \n",
      " tchNormalization)                                               \n",
      "                                                                 \n",
      " max_pooling1d_474 (MaxPooli  (None, 66140, 32)        0         \n",
      " ng1D)                                                           \n",
      "                                                                 \n",
      " conv1d_554 (Conv1D)         (None, 66122, 64)         38976     \n",
      "                                                                 \n",
      " batch_normalization_554 (Ba  (None, 66122, 64)        256       \n",
      " tchNormalization)                                               \n",
      "                                                                 \n",
      " max_pooling1d_475 (MaxPooli  (None, 33061, 64)        0         \n",
      " ng1D)                                                           \n",
      "                                                                 \n",
      " conv1d_555 (Conv1D)         (None, 33045, 128)        139392    \n",
      "                                                                 \n",
      " batch_normalization_555 (Ba  (None, 33045, 128)       512       \n",
      " tchNormalization)                                               \n",
      "                                                                 \n",
      " max_pooling1d_476 (MaxPooli  (None, 16522, 128)       0         \n",
      " ng1D)                                                           \n",
      "                                                                 \n",
      " conv1d_556 (Conv1D)         (None, 16508, 256)        491776    \n",
      "                                                                 \n",
      " batch_normalization_556 (Ba  (None, 16508, 256)       1024      \n",
      " tchNormalization)                                               \n",
      "                                                                 \n",
      " max_pooling1d_477 (MaxPooli  (None, 8254, 256)        0         \n",
      " ng1D)                                                           \n",
      "                                                                 \n",
      " conv1d_557 (Conv1D)         (None, 8242, 512)         1704448   \n",
      "                                                                 \n",
      " batch_normalization_557 (Ba  (None, 8242, 512)        2048      \n",
      " tchNormalization)                                               \n",
      "                                                                 \n",
      " max_pooling1d_478 (MaxPooli  (None, 4121, 512)        0         \n",
      " ng1D)                                                           \n",
      "                                                                 \n",
      " conv1d_558 (Conv1D)         (None, 4111, 1024)        5768192   \n",
      "                                                                 \n",
      " batch_normalization_558 (Ba  (None, 4111, 1024)       4096      \n",
      " tchNormalization)                                               \n",
      "                                                                 \n",
      " max_pooling1d_479 (MaxPooli  (None, 2055, 1024)       0         \n",
      " ng1D)                                                           \n",
      "                                                                 \n",
      " conv1d_559 (Conv1D)         (None, 2047, 1024)        9438208   \n",
      "                                                                 \n",
      " batch_normalization_559 (Ba  (None, 2047, 1024)       4096      \n",
      " tchNormalization)                                               \n",
      "                                                                 \n",
      " global_max_pooling1d_79 (Gl  (None, 1024)             0         \n",
      " obalMaxPooling1D)                                               \n",
      "                                                                 \n",
      " dense_158 (Dense)           (None, 128)               131200    \n",
      "                                                                 \n",
      " dense_159 (Dense)           (None, 7)                 903       \n",
      "                                                                 \n",
      "=================================================================\n",
      "Total params: 17,725,959\n",
      "Trainable params: 17,719,879\n",
      "Non-trainable params: 6,080\n",
      "_________________________________________________________________\n"
     ]
    }
   ],
   "source": [
    "SAVEE_model = keras.models.load_model(\"../saved_models/mPaperModel_s3_b16_d0_p80_o_crop_fade15_sz62.5,20.833,16.666/\")\n",
    "SAVEE_model.summary()"
   ]
  },
  {
   "cell_type": "code",
   "execution_count": 6,
   "metadata": {},
   "outputs": [],
   "source": [
    "data_preprocessing = lambda total_audio_frames: [\n",
    "  data_ops.Crop(),\n",
    "  data_ops.Fade(total_audio_frames * 0.15, total_audio_frames * 0.15),\n",
    "]"
   ]
  },
  {
   "cell_type": "code",
   "execution_count": 7,
   "metadata": {},
   "outputs": [],
   "source": [
    "# remove from SAVEE label f and d because they'r not present as labelS in ESD\n",
    "ESD_df[\"label_f\"] = 0 # SAVEE_df.drop(columns=[\"label_f\", \"label_d\"])\n",
    "ESD_df[\"label_d\"] = 0 # SAVEE_df.drop(columns=[\"label_f\", \"label_d\"])"
   ]
  },
  {
   "cell_type": "code",
   "execution_count": 8,
   "metadata": {},
   "outputs": [
    {
     "name": "stdout",
     "output_type": "stream",
     "text": [
      "WARNING:tensorflow:Using a while_loop for converting IO>AudioResample\n"
     ]
    },
    {
     "name": "stderr",
     "output_type": "stream",
     "text": [
      "WARNING:tensorflow:Using a while_loop for converting IO>AudioResample\n"
     ]
    },
    {
     "name": "stdout",
     "output_type": "stream",
     "text": [
      "WARNING:tensorflow:Using a while_loop for converting IO>AudioResample\n"
     ]
    },
    {
     "name": "stderr",
     "output_type": "stream",
     "text": [
      "WARNING:tensorflow:Using a while_loop for converting IO>AudioResample\n"
     ]
    },
    {
     "name": "stdout",
     "output_type": "stream",
     "text": [
      "WARNING:tensorflow:Using a while_loop for converting IO>AudioResample\n"
     ]
    },
    {
     "name": "stderr",
     "output_type": "stream",
     "text": [
      "WARNING:tensorflow:Using a while_loop for converting IO>AudioResample\n"
     ]
    }
   ],
   "source": [
    "_, _, SAVEE_test_ds, _ = data_loader.load_datasets(SAVEE_df, SAVEE_max_sample_rate, 3, data_preprocessing, [62.5, 20.833, 16.666])"
   ]
  },
  {
   "cell_type": "code",
   "execution_count": 9,
   "metadata": {},
   "outputs": [
    {
     "name": "stdout",
     "output_type": "stream",
     "text": [
      "WARNING:tensorflow:Using a while_loop for converting IO>AudioResample\n"
     ]
    },
    {
     "name": "stderr",
     "output_type": "stream",
     "text": [
      "WARNING:tensorflow:Using a while_loop for converting IO>AudioResample\n"
     ]
    },
    {
     "name": "stdout",
     "output_type": "stream",
     "text": [
      "WARNING:tensorflow:Using a while_loop for converting IO>AudioResample\n"
     ]
    },
    {
     "name": "stderr",
     "output_type": "stream",
     "text": [
      "WARNING:tensorflow:Using a while_loop for converting IO>AudioResample\n"
     ]
    },
    {
     "name": "stdout",
     "output_type": "stream",
     "text": [
      "WARNING:tensorflow:Using a while_loop for converting IO>AudioResample\n"
     ]
    },
    {
     "name": "stderr",
     "output_type": "stream",
     "text": [
      "WARNING:tensorflow:Using a while_loop for converting IO>AudioResample\n"
     ]
    }
   ],
   "source": [
    "_, _, ESD_test_ds, _ = data_loader.load_datasets(ESD_df, SAVEE_max_sample_rate, 3, data_preprocessing, [5, 5, 90])"
   ]
  },
  {
   "cell_type": "code",
   "execution_count": 10,
   "metadata": {},
   "outputs": [
    {
     "data": {
      "text/plain": [
       "array(['a', 'd', 'f', 'h', 'n', 'sa', 'su'], dtype=object)"
      ]
     },
     "execution_count": 10,
     "metadata": {},
     "output_type": "execute_result"
    }
   ],
   "source": [
    "SAVEE_df[\"label\"].unique()"
   ]
  },
  {
   "cell_type": "code",
   "execution_count": 11,
   "metadata": {},
   "outputs": [
    {
     "data": {
      "text/plain": [
       "array(['a', 'h', 'n', 'sa', 'su'], dtype=object)"
      ]
     },
     "execution_count": 11,
     "metadata": {},
     "output_type": "execute_result"
    }
   ],
   "source": [
    "ESD_df[\"label\"].unique()"
   ]
  },
  {
   "cell_type": "code",
   "execution_count": 12,
   "metadata": {},
   "outputs": [],
   "source": [
    "ESD_test_ds = ESD_test_ds.batch(16)\n",
    "SAVEE_test_ds = SAVEE_test_ds.batch(16)"
   ]
  },
  {
   "cell_type": "code",
   "execution_count": 13,
   "metadata": {},
   "outputs": [
    {
     "name": "stdout",
     "output_type": "stream",
     "text": [
      "7/7 [==============================] - 47s 3s/step - loss: 5.6845 - accuracy: 0.6300\n"
     ]
    },
    {
     "data": {
      "text/plain": [
       "[5.684537887573242, 0.6299999952316284]"
      ]
     },
     "execution_count": 13,
     "metadata": {},
     "output_type": "execute_result"
    }
   ],
   "source": [
    "SAVEE_model.evaluate(SAVEE_test_ds)"
   ]
  },
  {
   "cell_type": "code",
   "execution_count": 14,
   "metadata": {},
   "outputs": [
    {
     "name": "stdout",
     "output_type": "stream",
     "text": [
      "1000/1000 [==============================] - 1686s 2s/step - loss: 6.1333 - accuracy: 0.1982\n"
     ]
    },
    {
     "data": {
      "text/plain": [
       "[6.133326530456543, 0.19824999570846558]"
      ]
     },
     "execution_count": 14,
     "metadata": {},
     "output_type": "execute_result"
    }
   ],
   "source": [
    "SAVEE_model.evaluate(ESD_test_ds)"
   ]
  },
  {
   "cell_type": "markdown",
   "metadata": {},
   "source": [
    "## Best ESD on SAVEE"
   ]
  },
  {
   "cell_type": "markdown",
   "metadata": {},
   "source": [
    "Load ESD and SAVEE test sub dataset (also apply the same preprocessing needed by the model).\n",
    "\n",
    "In this specific case, the best model trained on ESD data requires the split of data audio in 4 seconds and the application of crop and normalization."
   ]
  },
  {
   "cell_type": "code",
   "execution_count": 5,
   "metadata": {},
   "outputs": [],
   "source": [
    "# 'crop_norm'\n",
    "data_preprocessing = lambda _: [\n",
    "        data_ops.Crop(),\n",
    "        data_ops.Normalize()]"
   ]
  },
  {
   "cell_type": "code",
   "execution_count": 6,
   "metadata": {},
   "outputs": [],
   "source": [
    "# remove from SAVEE label f and d because they'r not present as labelS in ESD\n",
    "SAVEE_df = SAVEE_df.drop(columns=[\"label_f\", \"label_d\"])\n",
    "\n",
    "SAVEE_df = SAVEE_df.loc[SAVEE_df[\"label\"] != \"f\"]\n",
    "SAVEE_df = SAVEE_df.loc[SAVEE_df[\"label\"] != \"d\"]"
   ]
  },
  {
   "cell_type": "code",
   "execution_count": 7,
   "metadata": {},
   "outputs": [
    {
     "data": {
      "text/plain": [
       "array(['a', 'h', 'n', 'sa', 'su'], dtype=object)"
      ]
     },
     "execution_count": 7,
     "metadata": {},
     "output_type": "execute_result"
    }
   ],
   "source": [
    "SAVEE_df[\"label\"].unique()"
   ]
  },
  {
   "cell_type": "code",
   "execution_count": 8,
   "metadata": {},
   "outputs": [
    {
     "name": "stdout",
     "output_type": "stream",
     "text": [
      "WARNING:tensorflow:Using a while_loop for converting IO>AudioResample\n"
     ]
    },
    {
     "name": "stderr",
     "output_type": "stream",
     "text": [
      "WARNING:tensorflow:Using a while_loop for converting IO>AudioResample\n"
     ]
    },
    {
     "name": "stdout",
     "output_type": "stream",
     "text": [
      "WARNING:tensorflow:Using a while_loop for converting IO>AudioResample\n"
     ]
    },
    {
     "name": "stderr",
     "output_type": "stream",
     "text": [
      "WARNING:tensorflow:Using a while_loop for converting IO>AudioResample\n"
     ]
    },
    {
     "name": "stdout",
     "output_type": "stream",
     "text": [
      "WARNING:tensorflow:Using a while_loop for converting IO>AudioResample\n"
     ]
    },
    {
     "name": "stderr",
     "output_type": "stream",
     "text": [
      "WARNING:tensorflow:Using a while_loop for converting IO>AudioResample\n"
     ]
    }
   ],
   "source": [
    "# test ds tensor dataset of tuples (feats, target)\n",
    "_, _, ESD_test_ds, _ = data_loader.load_datasets(ESD_df, ESD_max_sample_rate, 4, data_preprocessing, [70, 15, 15])"
   ]
  },
  {
   "cell_type": "code",
   "execution_count": 10,
   "metadata": {},
   "outputs": [
    {
     "name": "stdout",
     "output_type": "stream",
     "text": [
      "WARNING:tensorflow:Using a while_loop for converting IO>AudioResample\n"
     ]
    },
    {
     "name": "stderr",
     "output_type": "stream",
     "text": [
      "WARNING:tensorflow:Using a while_loop for converting IO>AudioResample\n"
     ]
    },
    {
     "name": "stdout",
     "output_type": "stream",
     "text": [
      "WARNING:tensorflow:Using a while_loop for converting IO>AudioResample\n"
     ]
    },
    {
     "name": "stderr",
     "output_type": "stream",
     "text": [
      "WARNING:tensorflow:Using a while_loop for converting IO>AudioResample\n"
     ]
    },
    {
     "name": "stdout",
     "output_type": "stream",
     "text": [
      "WARNING:tensorflow:Using a while_loop for converting IO>AudioResample\n"
     ]
    },
    {
     "name": "stderr",
     "output_type": "stream",
     "text": [
      "WARNING:tensorflow:Using a while_loop for converting IO>AudioResample\n"
     ]
    }
   ],
   "source": [
    "_, _, SAVEE_test_ds, _ = data_loader.load_datasets(SAVEE_df, ESD_max_sample_rate, 4, data_preprocessing, [0, 0, 100])"
   ]
  },
  {
   "cell_type": "code",
   "execution_count": 12,
   "metadata": {},
   "outputs": [],
   "source": [
    "ESD_test_ds = ESD_test_ds.batch(64)\n",
    "SAVEE_test_ds = SAVEE_test_ds.batch(64)"
   ]
  },
  {
   "cell_type": "code",
   "execution_count": 13,
   "metadata": {},
   "outputs": [
    {
     "name": "stdout",
     "output_type": "stream",
     "text": [
      "Model: \"sequential_17\"\n",
      "_________________________________________________________________\n",
      " Layer (type)                Output Shape              Param #   \n",
      "=================================================================\n",
      " conv1d_85 (Conv1D)          (None, 63992, 32)         320       \n",
      "                                                                 \n",
      " batch_normalization_85 (Bat  (None, 63992, 32)        128       \n",
      " chNormalization)                                                \n",
      "                                                                 \n",
      " max_pooling1d_68 (MaxPoolin  (None, 15998, 32)        0         \n",
      " g1D)                                                            \n",
      "                                                                 \n",
      " conv1d_86 (Conv1D)          (None, 15990, 32)         9248      \n",
      "                                                                 \n",
      " batch_normalization_86 (Bat  (None, 15990, 32)        128       \n",
      " chNormalization)                                                \n",
      "                                                                 \n",
      " max_pooling1d_69 (MaxPoolin  (None, 3997, 32)         0         \n",
      " g1D)                                                            \n",
      "                                                                 \n",
      " conv1d_87 (Conv1D)          (None, 3989, 32)          9248      \n",
      "                                                                 \n",
      " batch_normalization_87 (Bat  (None, 3989, 32)         128       \n",
      " chNormalization)                                                \n",
      "                                                                 \n",
      " max_pooling1d_70 (MaxPoolin  (None, 997, 32)          0         \n",
      " g1D)                                                            \n",
      "                                                                 \n",
      " conv1d_88 (Conv1D)          (None, 989, 32)           9248      \n",
      "                                                                 \n",
      " batch_normalization_88 (Bat  (None, 989, 32)          128       \n",
      " chNormalization)                                                \n",
      "                                                                 \n",
      " max_pooling1d_71 (MaxPoolin  (None, 247, 32)          0         \n",
      " g1D)                                                            \n",
      "                                                                 \n",
      " conv1d_89 (Conv1D)          (None, 239, 32)           9248      \n",
      "                                                                 \n",
      " batch_normalization_89 (Bat  (None, 239, 32)          128       \n",
      " chNormalization)                                                \n",
      "                                                                 \n",
      " global_max_pooling1d_17 (Gl  (None, 32)               0         \n",
      " obalMaxPooling1D)                                               \n",
      "                                                                 \n",
      " dense_68 (Dense)            (None, 20)                660       \n",
      "                                                                 \n",
      " dropout_51 (Dropout)        (None, 20)                0         \n",
      "                                                                 \n",
      " dense_69 (Dense)            (None, 20)                420       \n",
      "                                                                 \n",
      " dropout_52 (Dropout)        (None, 20)                0         \n",
      "                                                                 \n",
      " dense_70 (Dense)            (None, 20)                420       \n",
      "                                                                 \n",
      " dropout_53 (Dropout)        (None, 20)                0         \n",
      "                                                                 \n",
      " dense_71 (Dense)            (None, 5)                 105       \n",
      "                                                                 \n",
      "=================================================================\n",
      "Total params: 39,557\n",
      "Trainable params: 39,237\n",
      "Non-trainable params: 320\n",
      "_________________________________________________________________\n"
     ]
    }
   ],
   "source": [
    "#  model_name = f\"m{model_factory.get_model_name()}_s{audio_seconds}_b{batch_size}_d{dropout}_p{patience}_o_{data_ops_name}_sz{str(train_val_tests_percentage).replace(' ', '')[1:-1]}\"\n",
    "ESD_model = keras.models.load_model(\"../saved_models/mModel_convl5_fcl3_fcsize20_filters32_fsize9_poolsize4_act_relu_drop0.2_lr001_b19_b2999____s4_b64_d0.5_p80_o_crop_norm_sz70,15,15/\")\n",
    "ESD_model.summary()"
   ]
  },
  {
   "cell_type": "code",
   "execution_count": 14,
   "metadata": {},
   "outputs": [
    {
     "name": "stdout",
     "output_type": "stream",
     "text": [
      "41/41 [==============================] - 30s 651ms/step - loss: 2.0560 - accuracy: 0.7172\n"
     ]
    },
    {
     "data": {
      "text/plain": [
       "[2.055967092514038, 0.7171755433082581]"
      ]
     },
     "execution_count": 14,
     "metadata": {},
     "output_type": "execute_result"
    }
   ],
   "source": [
    "ESD_model.evaluate(ESD_test_ds)"
   ]
  },
  {
   "cell_type": "code",
   "execution_count": 15,
   "metadata": {},
   "outputs": [
    {
     "name": "stdout",
     "output_type": "stream",
     "text": [
      "5/5 [==============================] - 6s 854ms/step - loss: 38.4288 - accuracy: 0.1858\n"
     ]
    },
    {
     "data": {
      "text/plain": [
       "[38.42875289916992, 0.18581080436706543]"
      ]
     },
     "execution_count": 15,
     "metadata": {},
     "output_type": "execute_result"
    }
   ],
   "source": [
    "ESD_model.evaluate(SAVEE_test_ds)"
   ]
  }
 ],
 "metadata": {
  "kernelspec": {
   "display_name": "Python 3.9.10 ('tf-gpu')",
   "language": "python",
   "name": "python3"
  },
  "language_info": {
   "codemirror_mode": {
    "name": "ipython",
    "version": 3
   },
   "file_extension": ".py",
   "mimetype": "text/x-python",
   "name": "python",
   "nbconvert_exporter": "python",
   "pygments_lexer": "ipython3",
   "version": "3.9.10"
  },
  "orig_nbformat": 4,
  "vscode": {
   "interpreter": {
    "hash": "1e5983e64bdf840368ab29cea7e1e8f9b41dcdac8639741a33a347d09d965169"
   }
  }
 },
 "nbformat": 4,
 "nbformat_minor": 2
}
